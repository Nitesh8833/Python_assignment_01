{
 "cells": [
  {
   "cell_type": "raw",
   "id": "46ec132d",
   "metadata": {},
   "source": [
    "# 1. What is the name of the feature responsible for generating Regex objects?"
   ]
  },
  {
   "cell_type": "code",
   "execution_count": 2,
   "id": "bd6e878a",
   "metadata": {},
   "outputs": [],
   "source": [
    "# Ans : The re.compile() function is responsible for generating Regex objects."
   ]
  },
  {
   "cell_type": "raw",
   "id": "99fec411",
   "metadata": {},
   "source": [
    "# 2. Why do raw strings often appear in Regex objects?"
   ]
  },
  {
   "cell_type": "code",
   "execution_count": 3,
   "id": "9a989bb3",
   "metadata": {},
   "outputs": [],
   "source": [
    "# Ans : Raw strings are used so that backslashes do not have to be escaped."
   ]
  },
  {
   "cell_type": "raw",
   "id": "28769b05",
   "metadata": {},
   "source": [
    "# 3. What is the return value of the search() method?"
   ]
  },
  {
   "cell_type": "code",
   "execution_count": 4,
   "id": "b4374d76",
   "metadata": {},
   "outputs": [],
   "source": [
    "# Ans : The search() method returns Match objects."
   ]
  },
  {
   "cell_type": "code",
   "execution_count": 4,
   "id": "478d8009",
   "metadata": {},
   "outputs": [
    {
     "name": "stdout",
     "output_type": "stream",
     "text": [
      "Phone number found: 415-555-4242\n"
     ]
    }
   ],
   "source": [
    "import re\n",
    "phoneNumRegex = re.compile(r'\\d\\d\\d-\\d\\d\\d-\\d\\d\\d\\d')\n",
    "mo = phoneNumRegex.search('My number is 415-555-4242.')\n",
    "print('Phone number found: ' + mo.group())"
   ]
  },
  {
   "cell_type": "raw",
   "id": "4e91d265",
   "metadata": {},
   "source": [
    "# 4. From a Match item, how do you get the actual strings that match the pattern?"
   ]
  },
  {
   "cell_type": "code",
   "execution_count": 5,
   "id": "ea8f5ffe",
   "metadata": {},
   "outputs": [],
   "source": [
    "# Ans : The group() method returns strings of the matched text."
   ]
  },
  {
   "cell_type": "raw",
   "id": "8c3e6a77",
   "metadata": {},
   "source": [
    "# 5. In the regex which created from the r'(\\d\\d\\d)-(\\d\\d\\d-\\d\\d\\d\\d)', what does group zero cover? Group 2? Group 1?"
   ]
  },
  {
   "cell_type": "code",
   "execution_count": 6,
   "id": "f55b1f25",
   "metadata": {},
   "outputs": [],
   "source": [
    "# Ans : Group 0 is the entire match, group 1 covers the first set of parentheses, and group 2 covers the second set of parentheses."
   ]
  },
  {
   "cell_type": "raw",
   "id": "dc5d71f1",
   "metadata": {},
   "source": [
    "# 6. In standard expression syntax, parentheses and intervals have distinct meanings. How can you tell a regex that you want it to fit real parentheses and periods?"
   ]
  },
  {
   "cell_type": "code",
   "execution_count": 5,
   "id": "8f1e6488",
   "metadata": {},
   "outputs": [],
   "source": [
    "# Ans : Periods and parentheses can be escaped with a backslash: \\., \\(, and \\)."
   ]
  },
  {
   "cell_type": "raw",
   "id": "16a9cc55",
   "metadata": {},
   "source": [
    "# 7. The findall() method returns a string list or a list of string tuples. What causes it to return one of the two options?"
   ]
  },
  {
   "cell_type": "code",
   "execution_count": 6,
   "id": "fd1d750a",
   "metadata": {},
   "outputs": [],
   "source": [
    "# Ans :  If the regex has no groups, a list of strings is returned. If the regex has groups, a list of tuples of strings is returned."
   ]
  },
  {
   "cell_type": "raw",
   "id": "5ef51c35",
   "metadata": {},
   "source": [
    "# 8. In standard expressions, what does the | character mean?"
   ]
  },
  {
   "cell_type": "code",
   "execution_count": 9,
   "id": "9407eda2",
   "metadata": {},
   "outputs": [],
   "source": [
    "# Ans : The | character signifies matching “either, or” between two groups."
   ]
  },
  {
   "cell_type": "raw",
   "id": "65acb1f1",
   "metadata": {},
   "source": [
    "# 9. In regular expressions, what does the ? character stand for?"
   ]
  },
  {
   "cell_type": "code",
   "execution_count": 7,
   "id": "6627097b",
   "metadata": {},
   "outputs": [],
   "source": [
    "# Ans : The ? character can either mean “match zero or one of the preceding group” or be used to signify non-greedy matching."
   ]
  },
  {
   "cell_type": "raw",
   "id": "9bc1e3c2",
   "metadata": {},
   "source": [
    "# 10.In regular expressions, what is the difference between the + and * characters?"
   ]
  },
  {
   "cell_type": "code",
   "execution_count": 8,
   "id": "f2cbe116",
   "metadata": {},
   "outputs": [],
   "source": [
    "# Ans : The + matches one or more. The * matches zero or more."
   ]
  },
  {
   "cell_type": "raw",
   "id": "b9a010bb",
   "metadata": {},
   "source": [
    "# 11. What is the difference between {4} and {4,5} in regular expression? "
   ]
  },
  {
   "cell_type": "code",
   "execution_count": 9,
   "id": "0f0c3d7a",
   "metadata": {},
   "outputs": [],
   "source": [
    "# The {4} matches exactly four instances of the preceding group. The {4,5} matches between four and five instances."
   ]
  },
  {
   "cell_type": "raw",
   "id": "60e6373e",
   "metadata": {},
   "source": [
    "# 12. What do you mean by the \\d, \\w, and \\s shorthand character classes signify in regular expressions?"
   ]
  },
  {
   "cell_type": "code",
   "execution_count": 10,
   "id": "ee0f5a8f",
   "metadata": {},
   "outputs": [],
   "source": [
    "# Ans : The \\d, \\w, and \\s shorthand character classes match a single digit, word, or space character, respectively."
   ]
  },
  {
   "cell_type": "raw",
   "id": "a6b0b8bb",
   "metadata": {},
   "source": [
    "# 13. What do means by \\D, \\W, and \\S shorthand character classes signify in regular expressions?"
   ]
  },
  {
   "cell_type": "code",
   "execution_count": 11,
   "id": "aa7fcb4c",
   "metadata": {},
   "outputs": [],
   "source": [
    "# Ans : The \\D, \\W, and \\S shorthand character classes match a single character that is not a digit, word, or space character, respectively."
   ]
  },
  {
   "cell_type": "raw",
   "id": "a0226b98",
   "metadata": {},
   "source": [
    "# 14. What is the difference between .*? and .*?"
   ]
  },
  {
   "cell_type": "code",
   "execution_count": 12,
   "id": "b05be895",
   "metadata": {},
   "outputs": [],
   "source": [
    "# Ans : The .* performs a greedy match, and the .*? performs a non-greedy match."
   ]
  },
  {
   "cell_type": "raw",
   "id": "f32f3886",
   "metadata": {},
   "source": [
    "# 15. What is the syntax for matching both numbers and lowercase letters with a character class?"
   ]
  },
  {
   "cell_type": "code",
   "execution_count": 13,
   "id": "4e04c96f",
   "metadata": {},
   "outputs": [],
   "source": [
    "# Ans : Either [0-9a-z] or [a-z0-9]"
   ]
  },
  {
   "cell_type": "raw",
   "id": "87cf0a3f",
   "metadata": {},
   "source": [
    "# 16. What is the procedure for making a normal expression in regax case insensitive?"
   ]
  },
  {
   "cell_type": "code",
   "execution_count": 14,
   "id": "3f99296a",
   "metadata": {},
   "outputs": [],
   "source": [
    "# Ans : Passing re.I or re.IGNORECASE as the second argument to re.compile() will make the matching case insensitive."
   ]
  },
  {
   "cell_type": "raw",
   "id": "94868b2c",
   "metadata": {},
   "source": [
    "# 17. What does the . character normally match? What does it match if re.DOTALL is passed as 2nd argument in re.compile()?"
   ]
  },
  {
   "cell_type": "code",
   "execution_count": 15,
   "id": "90bd8f8e",
   "metadata": {},
   "outputs": [],
   "source": [
    "# Ans : The . character normally matches any character except the newline character. If re.DOTALL is passed as the second argument to re.compile(), then the dot will also match newline characters."
   ]
  },
  {
   "cell_type": "raw",
   "id": "c888485a",
   "metadata": {},
   "source": [
    "# 18. If numRegex = re.compile(r'\\d+'), what will numRegex.sub('X', '11 drummers, 10 pipers, five rings, 4 hen') return?"
   ]
  },
  {
   "cell_type": "code",
   "execution_count": 16,
   "id": "2b4cd7cf",
   "metadata": {},
   "outputs": [
    {
     "data": {
      "text/plain": [
       "'X drummers, X pipers, five rings, X hen'"
      ]
     },
     "execution_count": 16,
     "metadata": {},
     "output_type": "execute_result"
    }
   ],
   "source": [
    "# Ans : The sub() call will return the string 'X drummers, X pipers, five rings, X hens'.\n",
    "import re\n",
    "numRegex = re.compile(r'\\d+')\n",
    "numRegex.sub('X', '11 drummers, 10 pipers, five rings, 4 hen')"
   ]
  },
  {
   "cell_type": "raw",
   "id": "d533e52c",
   "metadata": {},
   "source": [
    "# 19. What does passing re.VERBOSE as the 2nd argument to re.compile() allow to do?"
   ]
  },
  {
   "cell_type": "code",
   "execution_count": 17,
   "id": "563da880",
   "metadata": {},
   "outputs": [],
   "source": [
    "# Ans : The re.VERBOSE argument allows you to add whitespace and comments to the string passed to re.compile()."
   ]
  },
  {
   "cell_type": "raw",
   "id": "91d07ae0",
   "metadata": {},
   "source": [
    "# 20. How would you write a regex that match a number with comma for every three digits? It must match the given following:\n",
    "### '42'\n",
    "### '1,234'\n",
    "### '6,368,745'\n",
    "### but not the following:\n",
    "### '12,34,567' (which has only two digits between the commas)\n",
    "### '1234' (which lacks commas) "
   ]
  },
  {
   "cell_type": "code",
   "execution_count": 21,
   "id": "1a5d48d5",
   "metadata": {},
   "outputs": [
    {
     "name": "stdout",
     "output_type": "stream",
     "text": [
      "\"42\" matches\n",
      "None\n",
      "\"1,234\" matches\n",
      "None\n",
      "\"6,368,745\" matches\n",
      "None\n",
      "\"12,34,567\" does not match\n",
      "None\n",
      "\"1234\" does not match\n",
      "None\n"
     ]
    }
   ],
   "source": [
    "# Ans : re.compile(r'^\\d{1,3}(,\\d{3})*$') will create this regex, but other regex strings can produce a similar regular expression.\n",
    "import re\n",
    "\n",
    "def Match(name):\n",
    "    namatina = re.compile(r'^\\d{1,3}(,\\d{3})*$')\n",
    "    if namatina.search(name):\n",
    "        print('\"'+name+'\" matches')\n",
    "    else:\n",
    "        print('\"'+ name +'\" does not match')\n",
    "print(Match('42'))\n",
    "print(Match('1,234'))\n",
    "print(Match('6,368,745'))\n",
    "print(Match('12,34,567'))\n",
    "print(Match('1234'))"
   ]
  },
  {
   "cell_type": "code",
   "execution_count": 1,
   "id": "edea225a",
   "metadata": {},
   "outputs": [],
   "source": []
  },
  {
   "cell_type": "raw",
   "id": "cae34bad",
   "metadata": {},
   "source": [
    "# 21. How would you write a regex that matches the full name of someone whose last name is Watanabe? You can assume that the first name that comes before it will always be one word that begins with a capital letter. The regex must match the following: 'Haruto Watanabe'\n",
    "# 'Alice Watanabe'\n",
    "# 'RoboCop Watanabe'\n",
    "# but not the following:\n",
    "# 'haruto Watanabe' (where the first name is not capitalized)\n",
    "# 'Mr. Watanabe' (where the preceding word has a nonletter character)\n",
    "# 'Watanabe' (which has no first name)\n",
    "# 'Haruto watanabe' (where Watanabe is not capitalized)\n"
   ]
  },
  {
   "cell_type": "code",
   "execution_count": 12,
   "id": "fd93582b",
   "metadata": {},
   "outputs": [
    {
     "name": "stdout",
     "output_type": "stream",
     "text": [
      "\"Alice Watanabe\" does not match\n",
      "\"RoboCop Watanabe\" does not match\n",
      "\"haruto Watanabe\" does not match\n",
      "\"Mr. Watanabe\" does not match\n",
      "\"Watanabe\" does not match\n",
      "\"Haruto watanabe\" does not match\n"
     ]
    }
   ],
   "source": [
    "# Ans : We can write in this particular way \n",
    "import re\n",
    "\n",
    "def Match(name):\n",
    "    patow = re.compile(r'[A-Z][a-z]*\\sWatanabe')\n",
    "    if patow.search(name):\n",
    "        print('\"'+name+'\" matches')\n",
    "    else:\n",
    "        print('\"'+name+'\" does not match')\n",
    "printMatch('Alice Watanabe')\n",
    "printMatch('RoboCop Watanabe')\n",
    "printMatch('haruto Watanabe')\n",
    "printMatch('Mr. Watanabe')\n",
    "printMatch('Watanabe')\n",
    "printMatch('Haruto watanabe')\n"
   ]
  },
  {
   "cell_type": "raw",
   "id": "7bb52e1a",
   "metadata": {},
   "source": [
    "# 22. How would you write a regex that matches a sentence where the first word is either Alice, Bob, or Carol; the second word is either eats, pets, or throws; the third word is apples, cats, or baseballs; and the sentence ends with a period? This regex should be case-insensitive. It must match the following:\n",
    "# 'Alice eats apples.'\n",
    "# 'Bob pets cats.'\n",
    "# 'Carol throws baseballs.'\n",
    "# 'Alice throws Apples.'\n",
    "# 'BOB EATS CATS.'\n",
    "# but not the following:\n",
    "# 'RoboCop eats apples.'\n",
    "# 'ALICE THROWS FOOTBALLS.'\n",
    "# 'Carol eats 7 cats.'"
   ]
  },
  {
   "cell_type": "code",
   "execution_count": 13,
   "id": "6297dbeb",
   "metadata": {},
   "outputs": [
    {
     "name": "stdout",
     "output_type": "stream",
     "text": [
      "\"Alice eats apples.\" matches\n",
      "\"Bob pets cats.\" matches\n",
      "\"Carol throws baseballs.\" matches\n",
      "\"Alice throws Apples.\" matches\n",
      "\"BOB EATS CATS.\" matches\n",
      "\"RoboCop eats apples.\" does not match\n",
      "\"ALICE THROWS FOOTBALLS.\" does not match\n",
      "\"Carol eats 7 cats.\" does not match\n"
     ]
    }
   ],
   "source": [
    "# Ans: \n",
    "import re\n",
    "\n",
    "def Match(name):\n",
    "    bella = re.compile(r'(Alice|Bob|Carol)\\s(eats|pets|throws)\\s(apples|cats|baseballs)\\.', re.IGNORECASE)\n",
    "    if bella.search(name):\n",
    "        print('\"'+name+'\" matches')\n",
    "    else:\n",
    "        print('\"'+name+'\" does not match')\n",
    "printMatch('Alice eats apples.')\n",
    "printMatch('Bob pets cats.')\n",
    "printMatch('Carol throws baseballs.')\n",
    "printMatch('Alice throws Apples.')\n",
    "printMatch('BOB EATS CATS.')\n",
    "printMatch('RoboCop eats apples.')\n",
    "printMatch('ALICE THROWS FOOTBALLS.')\n",
    "printMatch('Carol eats 7 cats.')"
   ]
  },
  {
   "cell_type": "code",
   "execution_count": null,
   "id": "7f6baa7e",
   "metadata": {},
   "outputs": [],
   "source": []
  }
 ],
 "metadata": {
  "kernelspec": {
   "display_name": "Python 3",
   "language": "python",
   "name": "python3"
  },
  "language_info": {
   "codemirror_mode": {
    "name": "ipython",
    "version": 3
   },
   "file_extension": ".py",
   "mimetype": "text/x-python",
   "name": "python",
   "nbconvert_exporter": "python",
   "pygments_lexer": "ipython3",
   "version": "3.9.5"
  }
 },
 "nbformat": 4,
 "nbformat_minor": 5
}
