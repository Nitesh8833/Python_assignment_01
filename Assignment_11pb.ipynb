{
  "nbformat": 4,
  "nbformat_minor": 0,
  "metadata": {
    "colab": {
      "name": "Assignment_11pb.ipynb",
      "provenance": [],
      "collapsed_sections": []
    },
    "kernelspec": {
      "name": "python3",
      "display_name": "Python 3"
    },
    "language_info": {
      "name": "python"
    }
  },
  "cells": [
    {
      "cell_type": "markdown",
      "metadata": {
        "id": "jhrXvZMRQH0g"
      },
      "source": [
        "1. Create an assert statement that throws an AssertionError if the variable spam is a negative integer."
      ]
    },
    {
      "cell_type": "code",
      "metadata": {
        "colab": {
          "base_uri": "https://localhost:8080/",
          "height": 197
        },
        "id": "njVfwDgi_9jt",
        "outputId": "c257d290-6192-4e0c-d388-3669ec934e89"
      },
      "source": [
        "spam = -564\n",
        "#if condition returns False, AssertionError is raised:\n",
        "assert spam == \"goodbye\""
      ],
      "execution_count": null,
      "outputs": [
        {
          "output_type": "error",
          "ename": "AssertionError",
          "evalue": "ignored",
          "traceback": [
            "\u001b[0;31m---------------------------------------------------------------------------\u001b[0m",
            "\u001b[0;31mAssertionError\u001b[0m                            Traceback (most recent call last)",
            "\u001b[0;32m<ipython-input-3-692e2d35d040>\u001b[0m in \u001b[0;36m<module>\u001b[0;34m()\u001b[0m\n\u001b[1;32m      1\u001b[0m \u001b[0mspam\u001b[0m \u001b[0;34m=\u001b[0m \u001b[0;34m-\u001b[0m\u001b[0;36m564\u001b[0m\u001b[0;34m\u001b[0m\u001b[0;34m\u001b[0m\u001b[0m\n\u001b[1;32m      2\u001b[0m \u001b[0;31m#if condition returns False, AssertionError is raised:\u001b[0m\u001b[0;34m\u001b[0m\u001b[0;34m\u001b[0m\u001b[0;34m\u001b[0m\u001b[0m\n\u001b[0;32m----> 3\u001b[0;31m \u001b[0;32massert\u001b[0m \u001b[0mspam\u001b[0m \u001b[0;34m==\u001b[0m \u001b[0;34m\"goodbye\"\u001b[0m\u001b[0;34m\u001b[0m\u001b[0;34m\u001b[0m\u001b[0m\n\u001b[0m",
            "\u001b[0;31mAssertionError\u001b[0m: "
          ]
        }
      ]
    },
    {
      "cell_type": "code",
      "metadata": {
        "colab": {
          "base_uri": "https://localhost:8080/",
          "height": 197
        },
        "id": "Z_EgItOi_daG",
        "outputId": "7da556d8-f556-46f5-ee68-de3b8a859e9b"
      },
      "source": [
        "spam = -564\n",
        "#if condition returns False, AssertionError is raised:\n",
        "assert spam == \"goodbye\", \"spam should be -564\"\n"
      ],
      "execution_count": null,
      "outputs": [
        {
          "output_type": "error",
          "ename": "AssertionError",
          "evalue": "ignored",
          "traceback": [
            "\u001b[0;31m---------------------------------------------------------------------------\u001b[0m",
            "\u001b[0;31mAssertionError\u001b[0m                            Traceback (most recent call last)",
            "\u001b[0;32m<ipython-input-1-3582694f2d10>\u001b[0m in \u001b[0;36m<module>\u001b[0;34m()\u001b[0m\n\u001b[1;32m      1\u001b[0m \u001b[0mspam\u001b[0m \u001b[0;34m=\u001b[0m \u001b[0;34m-\u001b[0m\u001b[0;36m564\u001b[0m\u001b[0;34m\u001b[0m\u001b[0;34m\u001b[0m\u001b[0m\n\u001b[1;32m      2\u001b[0m \u001b[0;31m#if condition returns False, AssertionError is raised:\u001b[0m\u001b[0;34m\u001b[0m\u001b[0;34m\u001b[0m\u001b[0;34m\u001b[0m\u001b[0m\n\u001b[0;32m----> 3\u001b[0;31m \u001b[0;32massert\u001b[0m \u001b[0mspam\u001b[0m \u001b[0;34m==\u001b[0m \u001b[0;34m\"goodbye\"\u001b[0m\u001b[0;34m,\u001b[0m \u001b[0;34m\"spam should be -564\"\u001b[0m\u001b[0;34m\u001b[0m\u001b[0;34m\u001b[0m\u001b[0m\n\u001b[0m",
            "\u001b[0;31mAssertionError\u001b[0m: spam should be -564"
          ]
        }
      ]
    },
    {
      "cell_type": "code",
      "metadata": {
        "id": "s_3FzDzn_8ij"
      },
      "source": [
        ""
      ],
      "execution_count": null,
      "outputs": []
    },
    {
      "cell_type": "markdown",
      "metadata": {
        "id": "3BKYLnrm-8Oh"
      },
      "source": [
        "spam = -564\n",
        "\n",
        "#if condition returns False, AssertionError is raised:\n",
        "assert spam == \"goodbye\", \"spam should be -564\""
      ]
    },
    {
      "cell_type": "markdown",
      "metadata": {
        "id": "Hn17dJFOQWwY"
      },
      "source": [
        "Ans:-In Python, the assert statement is used to continue the execute if the given condition evaluates to True. If the assert condition evaluates to False, then it raises the AssertionError exception with the specified error message.\n",
        "\n",
        "\n",
        "def square(x):\n",
        "    assert x>=0, 'Only positive numbers are allowed'\n",
        "    return x*x\n",
        "\n",
        "n = square(2) # returns 4\n",
        "n = square(-2) # raise an AssertionError\n",
        "\n",
        "\n",
        "Above, square(2) will return 4, whereas square(-2) will raise an AssertionError because we passed -2.\n",
        "\n",
        "def square(x):\n",
        "    assert x>=0, 'Only positive numbers are allowed'\n",
        "    return x*x\n",
        "\n",
        "try:\n",
        "    square(-2)\n",
        "except AssertionError as msg:\n",
        "    print(msg)\n",
        "\n",
        "\n",
        "output:- Only positive numbers are allowed\n",
        "\n",
        "Above, calling square(-2) will raise an AssertionError, which will be handled by the except block. The error message in the assert statement will be passed as an argument to the exception argument msg, using as keyword.\n",
        "\n",
        "Thus, the assert statement should generally be used to prevent possible errors and specify appropriate error messages.\n",
        "\n"
      ]
    },
    {
      "cell_type": "markdown",
      "metadata": {
        "id": "eR1AqTUKSwQM"
      },
      "source": [
        "2. Write an assert statement that triggers an AssertionError if the variables eggs and bacon contain strings that are the same as each other, even if their cases are different (that is, 'hello' and 'hello' are considered the same, and 'goodbye' and 'GOODbye' are also considered the same).\n",
        "\n"
      ]
    },
    {
      "cell_type": "code",
      "metadata": {
        "id": "hZ_ieGuWAii4"
      },
      "source": [
        "eggs = 'hello'\n",
        "bacon = 'Hello'\n",
        "\n",
        "assert eggs.lower() == bacon.lower()"
      ],
      "execution_count": 1,
      "outputs": []
    },
    {
      "cell_type": "markdown",
      "metadata": {
        "id": "KHC6s2CeBMhl"
      },
      "source": [
        "3. Create an assert statement that throws an Assertion Error every time."
      ]
    },
    {
      "cell_type": "code",
      "metadata": {
        "id": "x5e5FPwzBNy9"
      },
      "source": [
        "assert True # it always throws assertionn error"
      ],
      "execution_count": null,
      "outputs": []
    },
    {
      "cell_type": "markdown",
      "metadata": {
        "id": "g6QPxLX_GPTB"
      },
      "source": [
        "5. What are the two lines that your program must have in order to have logging.debug() send a logging message to a file named programLog.txt?\n"
      ]
    },
    {
      "cell_type": "code",
      "metadata": {
        "id": "nIjOX2FBH4LF"
      },
      "source": [
        "import logging\n",
        "logging.basicConfig(\n",
        "    filename='programLog.txt',\n",
        "    level=logging.DEBUG,\n",
        "    format='%(asctime)s - %(levelname)s - %(message)s'\n",
        ")\n"
      ],
      "execution_count": null,
      "outputs": []
    },
    {
      "cell_type": "markdown",
      "metadata": {
        "id": "5kmAa_VUIAGg"
      },
      "source": [
        "6. What are the five levels of logging?"
      ]
    },
    {
      "cell_type": "code",
      "metadata": {
        "id": "icnF5A7_IHCm"
      },
      "source": [
        "# logging.debug() - variable's state and small details\n",
        "# logging.info() - general events, confirm a program is working\n",
        "# logging.warning() - potiental problem to work on in the future\n",
        "# logging.error() - record an error that caused program to fail to do something\n",
        "# logging.critical() - fatal error that has caused"
      ],
      "execution_count": null,
      "outputs": []
    },
    {
      "cell_type": "markdown",
      "metadata": {
        "id": "J0DXixMVIKi_"
      },
      "source": [
        "7. What line of code would you add to your software to disable all logging messages?"
      ]
    },
    {
      "cell_type": "code",
      "metadata": {
        "id": "ayvdjhknISkj"
      },
      "source": [
        "logging.disable(logging.DEBUG)"
      ],
      "execution_count": null,
      "outputs": []
    },
    {
      "cell_type": "markdown",
      "metadata": {
        "id": "EBbmvPcTIY1i"
      },
      "source": [
        "8.Why is using logging messages better than using print() to display the same message?\n"
      ]
    },
    {
      "cell_type": "code",
      "metadata": {
        "id": "VrYNycfETf-o"
      },
      "source": [
        "# Because with print, when your program is ready for production, you still\n",
        "# have to \"remove\" or comment it out. Verses logging message, you can toggle\n",
        "# the setting on/off or write to a file (send to a server). It is more flexible\n",
        "# especially with logging level 1-5."
      ],
      "execution_count": null,
      "outputs": []
    },
    {
      "cell_type": "markdown",
      "metadata": {
        "id": "njEaprlbThZC"
      },
      "source": [
        "9. What are the differences between the Step Over, Step In, and Step Out buttons in the debugger?"
      ]
    },
    {
      "cell_type": "code",
      "metadata": {
        "id": "ovfQI9jLTwQa"
      },
      "source": [
        "# Step - one line execution at a time\n",
        "# Over - excecute the next line of code, but if it is a program, it will\n",
        "#        complete the entire function call.\n",
        "# out  - execute the lines of code unti it returns from the current function.\n",
        "#        (out is useful when you stepped into a function call)."
      ],
      "execution_count": null,
      "outputs": []
    },
    {
      "cell_type": "markdown",
      "metadata": {
        "id": "q5MV9DbUTvTC"
      },
      "source": [
        "10.After you click Continue, when will the debugger stop ?"
      ]
    },
    {
      "cell_type": "code",
      "metadata": {
        "id": "pWLrDKmVUBhl"
      },
      "source": [
        "# Go runs until the program terminate or reaches a breakpoint set."
      ],
      "execution_count": null,
      "outputs": []
    },
    {
      "cell_type": "markdown",
      "metadata": {
        "id": "0wag3lAhUEn0"
      },
      "source": [
        "11. What is the concept of a breakpoint?"
      ]
    },
    {
      "cell_type": "code",
      "metadata": {
        "id": "zKXpkoc6UWGm"
      },
      "source": [
        "# When you have Debugger enabled and you can right click on any lines\n",
        "# to create a breakpoint. During Go - it will stop there and await your next\n",
        "# command."
      ],
      "execution_count": null,
      "outputs": []
    }
  ]
}