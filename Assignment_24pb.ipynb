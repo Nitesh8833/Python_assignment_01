{
 "cells": [
  {
   "cell_type": "code",
   "execution_count": null,
   "metadata": {},
   "outputs": [],
   "source": [
    "1. What is the relationship between def statements and lambda expressions ?"
   ]
  },
  {
   "cell_type": "code",
   "execution_count": null,
   "metadata": {},
   "outputs": [],
   "source": [
    "The power of lambda is better shown when you use them as an anonymous function inside another function.\n",
    "The primary difference between a lambda and a regular function is that the lambda function evaluates only a single expression\n",
    "and yields a function object. Consequently, we can name the result of the lambda function and use it in our program "
   ]
  },
  {
   "cell_type": "code",
   "execution_count": null,
   "metadata": {},
   "outputs": [],
   "source": [
    "2. What is the benefit of lambda?"
   ]
  },
  {
   "cell_type": "code",
   "execution_count": null,
   "metadata": {},
   "outputs": [],
   "source": [
    "One of the most common use cases for lambdas is in functional programming\n",
    "It allows you to provide a function as a parameter to another function\n"
   ]
  },
  {
   "cell_type": "code",
   "execution_count": null,
   "metadata": {},
   "outputs": [],
   "source": [
    "3. Compare and contrast map, filter, and reduce."
   ]
  },
  {
   "cell_type": "code",
   "execution_count": null,
   "metadata": {},
   "outputs": [],
   "source": [
    " '''The map() function iterates through all items in the given iterable and executes the function we passed as an argument\n",
    " on each of them.\n",
    " map(function, iterable(s))\n",
    " We can pass as many iterable objects as we want after passing the function we want to use'''\n",
    "'''filter() takes a function object and an iterable and creates a new list.\n",
    "the name suggests, filter() forms a new list that contains only elements that satisfy a certain condition, \n",
    "i.e. the function we passed returns True.'''\n",
    "'''reduce() works differently than map() and filter(). It does not return a new list based on the function and iterable \n",
    "we've passed. Instead, it returns a single value.\n",
    " in Python 3 reduce() isn't a built-in function anymore, and it can be found in the functools module.\n",
    " reduce(function, sequence[, initial])\n",
    " reduce() works by calling the function we passed for the first two items in the sequence.\n",
    " The result returned by the function is used in another call to function alongside with the next \n",
    " (third in this case), element.'''"
   ]
  },
  {
   "cell_type": "code",
   "execution_count": null,
   "metadata": {},
   "outputs": [],
   "source": [
    "4. What are function annotations, and how are they used?"
   ]
  },
  {
   "cell_type": "code",
   "execution_count": null,
   "metadata": {},
   "outputs": [],
   "source": [
    "Function annotations are arbitrary python expressions that are associated with various part of functions. \n",
    "These expressions are evaluated at compile time and have no life in python’s runtime environment.\n",
    "Python does not attach any meaning to these annotations. They take life when interpreted by third party libraries,\n",
    "for example, mypy.\n",
    "\n",
    "\n",
    "def func(x:'annotating x', y: 'annotating y', z: int)float: print(x + y + z)\n",
    "func.__annotations__"
   ]
  },
  {
   "cell_type": "code",
   "execution_count": null,
   "metadata": {},
   "outputs": [],
   "source": [
    "5. What are recursive functions, and how are they used?"
   ]
  },
  {
   "cell_type": "code",
   "execution_count": null,
   "metadata": {},
   "outputs": [],
   "source": [
    "we know that a function can call other functions. It is even possible for the function to call itself.\n",
    "These types of construct are termed as recursive functions.\n",
    "\n",
    "\n",
    "def tri_recursion(k):\n",
    "  if(k > 0):\n",
    "    result = k + tri_recursion(k - 1)\n",
    "    print(result)\n",
    "  else:\n",
    "    result = 0\n",
    "  return result\n",
    "\n",
    "print(\"\\n\\nRecursion Example Results\")\n",
    "tri_recursion(6)"
   ]
  },
  {
   "cell_type": "code",
   "execution_count": null,
   "metadata": {},
   "outputs": [],
   "source": [
    "6. What are some general design guidelines for coding functions?"
   ]
  },
  {
   "cell_type": "code",
   "execution_count": null,
   "metadata": {},
   "outputs": [],
   "source": [
    "There are some general design guidelines fro coding functions\n",
    "\n",
    "The code should be easy to be read, for this: \n",
    "1)Try to define different sections of the code by segmenting blocks of code into a paragraph\n",
    "2)Make use of indentation for indicating the start and end of the control structures along with a clear specification \n",
    "of where the code is between them\n",
    "3)There should be consistency in the naming convention of the variables throughout the code. Also,\n",
    "the data should be described that is there in the code\n",
    "4)Name the functions according to what they perform\n",
    "The code should be such that one should be able to understand it even after returning to it after some time gap, \n",
    "without that person having to look at every line of it\n",
    "5)Follow a specific method for commenting on the work\n",
    "The language functions that are complex or the structure that is difficult to be comprehended should be avoided\n",
    "There are many advantages to the following coding standards while coding the software."
   ]
  },
  {
   "cell_type": "code",
   "execution_count": null,
   "metadata": {},
   "outputs": [],
   "source": [
    "7. Name three or more ways that functions can communicate results to a caller."
   ]
  },
  {
   "cell_type": "code",
   "execution_count": null,
   "metadata": {},
   "outputs": [],
   "source": [
    "1)print()\n",
    "2)return\n",
    "3)By passing an argument"
   ]
  }
 ],
 "metadata": {
  "kernelspec": {
   "display_name": "Python 3",
   "language": "python",
   "name": "python3"
  },
  "language_info": {
   "codemirror_mode": {
    "name": "ipython",
    "version": 3
   },
   "file_extension": ".py",
   "mimetype": "text/x-python",
   "name": "python",
   "nbconvert_exporter": "python",
   "pygments_lexer": "ipython3",
   "version": "3.9.5"
  }
 },
 "nbformat": 4,
 "nbformat_minor": 4
}
