{
  "nbformat": 4,
  "nbformat_minor": 0,
  "metadata": {
    "colab": {
      "name": "Assignment_14pb.ipynb",
      "provenance": [],
      "collapsed_sections": []
    },
    "kernelspec": {
      "name": "python3",
      "display_name": "Python 3"
    },
    "language_info": {
      "name": "python"
    }
  },
  "cells": [
    {
      "cell_type": "markdown",
      "metadata": {
        "id": "-WP--3YEgsjp"
      },
      "source": [
        "1. What does RGBA stand for?"
      ]
    },
    {
      "cell_type": "markdown",
      "metadata": {
        "id": "eWiMO4RmguAI"
      },
      "source": [
        "Red-Green-Blue-Alpha"
      ]
    },
    {
      "cell_type": "markdown",
      "metadata": {
        "id": "ojdIV_TAg52c"
      },
      "source": [
        "2. From the Pillow module, how do you get the RGBA value of any images?"
      ]
    },
    {
      "cell_type": "code",
      "metadata": {
        "id": "FjKXC1jV1LhF"
      },
      "source": [
        "from PIL import Image\n",
        "\n",
        "img = Image.open(‘image.png’)\n",
        "\n",
        "rgba = img.convert(“RGBA”)\n",
        "\n",
        "datas = rgba.getdata()"
      ],
      "execution_count": null,
      "outputs": []
    },
    {
      "cell_type": "markdown",
      "metadata": {
        "id": "d2pm8UGY1cii"
      },
      "source": [
        "3. What is a box tuple, and how does it work?"
      ]
    },
    {
      "cell_type": "markdown",
      "metadata": {
        "id": "Ea4C2FlM2fha"
      },
      "source": [
        "The box.tuple submodule provides read-only access for the tuple userdata type. It allows, for a single tuple: selective retrieval of the field contents, retrieval of information about size, iteration over all the fields, and conversion to a Lua table.\n"
      ]
    },
    {
      "cell_type": "markdown",
      "metadata": {
        "id": "-VCUATZ4Dh2L"
      },
      "source": [
        "4. Use your image and load in notebook then, How can you find out the width and height of an Image object?"
      ]
    },
    {
      "cell_type": "code",
      "metadata": {
        "id": "r6LkTyNAGSLE"
      },
      "source": [
        "\n",
        "from IPython.display import Image\n",
        "# Load image from local storage\n",
        "Image(filename = \"img1.png\", width = 600, height = 300)"
      ],
      "execution_count": null,
      "outputs": []
    },
    {
      "cell_type": "markdown",
      "metadata": {
        "id": "IgqvdNmRDlzK"
      },
      "source": [
        "5. What method would you call to get Image object for a 100×100 image, excluding the lower-left quarter of it?\n",
        "\n"
      ]
    },
    {
      "cell_type": "markdown",
      "metadata": {
        "id": "u5FCg-OnHjCZ"
      },
      "source": [
        "6. After making changes to an Image object, how could you save it as an image file?"
      ]
    },
    {
      "cell_type": "markdown",
      "metadata": {
        "id": "61QfOw5UHnLW"
      },
      "source": [
        "img.save('image.jpg')"
      ]
    },
    {
      "cell_type": "markdown",
      "metadata": {
        "id": "b_5Tz8DDJCix"
      },
      "source": [
        "7. What module contains Pillow’s shape-drawing code?"
      ]
    },
    {
      "cell_type": "markdown",
      "metadata": {
        "id": "W05uYDx3JH3p"
      },
      "source": [
        "ImageDraw"
      ]
    },
    {
      "cell_type": "markdown",
      "metadata": {
        "id": "TFLn0ezZJZ4J"
      },
      "source": [
        "8. Image objects do not have drawing methods. What kind of object does? How do you get this kind of object?"
      ]
    },
    {
      "cell_type": "markdown",
      "metadata": {
        "id": "01slKvOZJan3"
      },
      "source": [
        "Drawing() object "
      ]
    },
    {
      "cell_type": "code",
      "metadata": {
        "id": "do_sqlCBT9cA"
      },
      "source": [
        "# Import important objects from wand library\n",
        "from wand.image import Image\n",
        "from wand.drawing import Drawing\n",
        "from wand.color import Color\n",
        "\n",
        "# Create draw object using Drawing() function\n",
        "with Drawing() as draw:\n",
        "\twith Image(width = 200,\n",
        "\t\t\theight = 200,\n",
        "\t\t\tbackground = Color('green')) as img:\n",
        "\t\tdraw(img)\n",
        "\t\timg.save(filename ='empty.gif')\n"
      ],
      "execution_count": null,
      "outputs": []
    }
  ]
}