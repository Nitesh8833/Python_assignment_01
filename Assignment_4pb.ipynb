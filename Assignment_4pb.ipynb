{
  "nbformat": 4,
  "nbformat_minor": 0,
  "metadata": {
    "colab": {
      "name": "Assignment_4pb.ipynb",
      "provenance": [],
      "collapsed_sections": []
    },
    "kernelspec": {
      "name": "python3",
      "display_name": "Python 3"
    },
    "language_info": {
      "name": "python"
    }
  },
  "cells": [
    {
      "cell_type": "markdown",
      "metadata": {
        "id": "bpX4Jct_nFQi"
      },
      "source": [
        "1. What exactly is []?\n",
        "\n",
        "Ans:- Its is an array and empty List\n"
      ]
    },
    {
      "cell_type": "markdown",
      "metadata": {
        "id": "wR_n7LR5pVOE"
      },
      "source": [
        "2. In a list of values stored in a variable called spam, how would you assign the value 'hello' as the third value? (Assume [2, 4, 6, 8, 10] are in spam.)\n",
        "Ans:-\n"
      ]
    },
    {
      "cell_type": "code",
      "metadata": {
        "colab": {
          "base_uri": "https://localhost:8080/"
        },
        "id": "XDMIGIrZTZ4S",
        "outputId": "e7c0e1f4-5a96-495e-f45e-c8c1ac91620d"
      },
      "source": [
        "spam = [2,4,6,8,10]\n",
        "spam[2] = 'hello'\n",
        "print(spam)"
      ],
      "execution_count": null,
      "outputs": [
        {
          "output_type": "stream",
          "text": [
            "[2, 4, 'hello', 8, 10]\n"
          ],
          "name": "stdout"
        }
      ]
    },
    {
      "cell_type": "markdown",
      "metadata": {
        "id": "LOujRSoKT99N"
      },
      "source": [
        "3. What is the value of spam[int(int('3' * 2) / 11)]?\n",
        "\n",
        "Ans:-"
      ]
    },
    {
      "cell_type": "code",
      "metadata": {
        "colab": {
          "base_uri": "https://localhost:8080/"
        },
        "id": "dXCMALkFVjT6",
        "outputId": "55ba4d4e-1443-4301-bd5e-061a83ec32d2"
      },
      "source": [
        "spam = [2,4,6,8,10]\n",
        "li = spam[int(int('3' * 2) / 11)]\n",
        "print(li)\n"
      ],
      "execution_count": null,
      "outputs": [
        {
          "output_type": "stream",
          "text": [
            "8\n"
          ],
          "name": "stdout"
        }
      ]
    },
    {
      "cell_type": "markdown",
      "metadata": {
        "id": "7v3pRhPtWBXv"
      },
      "source": [
        "4. What is the value of spam[-1]?\n",
        "\n",
        "Ans:-last value spam list(i.e 10)"
      ]
    },
    {
      "cell_type": "markdown",
      "metadata": {
        "id": "Sw5NI0zEWWtF"
      },
      "source": [
        "5. What is the value of spam[:2]?\n"
      ]
    },
    {
      "cell_type": "code",
      "metadata": {
        "colab": {
          "base_uri": "https://localhost:8080/"
        },
        "id": "crXKycZuWge6",
        "outputId": "fba1b5b7-33a2-474b-ebd5-2cd7fcacf0dc"
      },
      "source": [
        "spam = [2,4,6,8,10]\n",
        "spam[:2]"
      ],
      "execution_count": null,
      "outputs": [
        {
          "output_type": "execute_result",
          "data": {
            "text/plain": [
              "[2, 4]"
            ]
          },
          "metadata": {
            "tags": []
          },
          "execution_count": 8
        }
      ]
    },
    {
      "cell_type": "markdown",
      "metadata": {
        "id": "pgacJr7VWj-V"
      },
      "source": [
        "Let's pretend bacon has the list [3.14, 'cat,' 11, 'cat,' True] for the next three questions.\n",
        "6. What is the value of bacon.index('cat')?\n",
        "Ans:-"
      ]
    },
    {
      "cell_type": "code",
      "metadata": {
        "colab": {
          "base_uri": "https://localhost:8080/"
        },
        "id": "jjlaRiLdnH7g",
        "outputId": "663bea07-1a79-4dfd-912b-a502da7faa30"
      },
      "source": [
        "bacon = [3.14,'cat',True]\n",
        "bacon.index(\"cat\")"
      ],
      "execution_count": null,
      "outputs": [
        {
          "output_type": "execute_result",
          "data": {
            "text/plain": [
              "1"
            ]
          },
          "metadata": {
            "tags": []
          },
          "execution_count": 10
        }
      ]
    },
    {
      "cell_type": "markdown",
      "metadata": {
        "id": "7CB2wkK8oX8O"
      },
      "source": [
        "7. How does bacon.append(99) change the look of the list value in bacon?\n",
        "Ans:-99 will append in last of list.\n"
      ]
    },
    {
      "cell_type": "code",
      "metadata": {
        "colab": {
          "base_uri": "https://localhost:8080/"
        },
        "id": "N0j-jE9YoaEv",
        "outputId": "a337145d-637a-4674-dd8b-ce3fc71ba905"
      },
      "source": [
        "bacon.append(99)\n",
        "bacon"
      ],
      "execution_count": null,
      "outputs": [
        {
          "output_type": "execute_result",
          "data": {
            "text/plain": [
              "[3.14, 'cat', True, 99, 99, 99, 99]"
            ]
          },
          "metadata": {
            "tags": []
          },
          "execution_count": 14
        }
      ]
    },
    {
      "cell_type": "markdown",
      "metadata": {
        "id": "8srtGHoBpDj1"
      },
      "source": [
        "8. How does bacon.remove('cat') change the look of the list in bacon?\n",
        "\n",
        "Ans:-It will delete \"cat\" from the list"
      ]
    },
    {
      "cell_type": "code",
      "metadata": {
        "colab": {
          "base_uri": "https://localhost:8080/"
        },
        "id": "-8CeP_gXpbBz",
        "outputId": "377a5685-540b-4082-d6fc-20539f0abe5f"
      },
      "source": [
        " bacon.remove('cat')\n",
        " bacon"
      ],
      "execution_count": null,
      "outputs": [
        {
          "output_type": "execute_result",
          "data": {
            "text/plain": [
              "[3.14, True, 99, 99, 99, 99]"
            ]
          },
          "metadata": {
            "tags": []
          },
          "execution_count": 15
        }
      ]
    },
    {
      "cell_type": "markdown",
      "metadata": {
        "id": "jcprRIJ3pjAX"
      },
      "source": [
        "9. What are the list concatenation and list replication operators?\n",
        "\n",
        "Ans:-list concatenation:- \"+\" and \n",
        "list replication:- \"*\""
      ]
    },
    {
      "cell_type": "markdown",
      "metadata": {
        "id": "DEfZXzy5tRa9"
      },
      "source": [
        "10. What is difference between the list methods append() and insert()?\n",
        "\n",
        "Ans:-While append() will add values only to the end of a list, insert() can add them anywhere in the list."
      ]
    },
    {
      "cell_type": "markdown",
      "metadata": {
        "id": "oy__HxNdt_4q"
      },
      "source": [
        "11. What are the two methods for removing items from a list?\n",
        "\n",
        "Ans:-The methods are remove(), pop(), clear() and del() ."
      ]
    },
    {
      "cell_type": "markdown",
      "metadata": {
        "id": "IE8M2Eq0vIbF"
      },
      "source": [
        "12. Describe how list values and string values are identical.\n",
        "\n",
        "Lists are mutable\n",
        "\n",
        "Implication of iterations is Time-consuming\n",
        "\n",
        "The list is better for performing operations, such as insertion and deletion.\n",
        "\n",
        "Lists consume more memory\n",
        "\n",
        "Lists have several built-in methods\n",
        "\n",
        "The unexpected changes and errors are more likely to occur\n",
        "\n",
        "Tuples are immutable\n",
        "\n",
        "The implication of iterations is comparatively Faster\n",
        "\n",
        "Tuple data type is appropriate for accessing the elements\n",
        "\n",
        "Tuple consume less memory as compared to the list\n",
        "\n",
        "Tuple does not have many built-in methods.\n",
        "\n",
        "In tuple, it is hard to take place.\n"
      ]
    },
    {
      "cell_type": "markdown",
      "metadata": {
        "id": "URmAsBeLOaYV"
      },
      "source": [
        "13.How do you type a tuple value that only contains the integer 42?\n",
        "\n",
        "Ans:-T = (42) "
      ]
    },
    {
      "cell_type": "markdown",
      "metadata": {
        "id": "kCbaqEJ9PJEV"
      },
      "source": [
        "15. How do you get a list value's tuple form? How do you get a tuple value's list form?\n",
        "\n",
        "Ans:-t =( 42)"
      ]
    },
    {
      "cell_type": "code",
      "metadata": {
        "colab": {
          "base_uri": "https://localhost:8080/"
        },
        "id": "kwxFIiLcQHpV",
        "outputId": "754f476a-3251-4141-8d13-93bbf59f6e0d"
      },
      "source": [
        "t =(42,76)\n",
        "print(t)\n",
        "print(type(t))\n",
        "l1= list(t)\n",
        "print(type(l1))\n"
      ],
      "execution_count": null,
      "outputs": [
        {
          "output_type": "stream",
          "text": [
            "(42, 76)\n",
            "<class 'tuple'>\n",
            "<class 'list'>\n"
          ],
          "name": "stdout"
        }
      ]
    },
    {
      "cell_type": "code",
      "metadata": {
        "colab": {
          "base_uri": "https://localhost:8080/"
        },
        "id": "3kBAcxs9QM6k",
        "outputId": "4513221a-2141-4419-c5e8-c87fa77d0a74"
      },
      "source": [
        "l = [43]\n",
        "print(type(l))\n",
        "t1 = tuple(l)\n",
        "print(type(t1))\n"
      ],
      "execution_count": null,
      "outputs": [
        {
          "output_type": "stream",
          "text": [
            "<class 'list'>\n",
            "<class 'tuple'>\n"
          ],
          "name": "stdout"
        }
      ]
    },
    {
      "cell_type": "markdown",
      "metadata": {
        "id": "-v524P9NRW-f"
      },
      "source": [
        "16. Variables that \"contain\" list values are not necessarily lists themselves. Instead, what do they contain?"
      ]
    },
    {
      "cell_type": "markdown",
      "metadata": {
        "id": "nb_4PQqWRYrd"
      },
      "source": [
        "Variables will contain references to list values rather than list values\n",
        "themselves. But for strings and integer values, variables simply contain the\n",
        "string or integer value. Python uses references whenever variables must\n",
        "store values of mutable data types, such as lists or dictionaries. For values\n",
        "of immutable data types such as strings, integers, or tuples, Python variables will store the value itself.\n"
      ]
    },
    {
      "cell_type": "markdown",
      "metadata": {
        "id": "PKhcM79NSXX6"
      },
      "source": [
        "17.How do you distinguish between copy.copy() and copy.deepcopy()?\n",
        "\n",
        "import copy\n",
        "\n",
        "L = [[1,2,3]]\n",
        "\n",
        "A = copy.copy(L)\n",
        "\n",
        "A[0].append(4)\n",
        "\n",
        " A\n",
        "\n",
        "[[1, 2, 3, 4]]\n",
        "\n",
        "L\n",
        "\n",
        "[[1, 2, 3, 4]]\n",
        "\n",
        "\n",
        " L = [[1,2,3]]\n",
        "\n",
        " A = copy.deepcopy(L)\n",
        "\n",
        " A[0].append(4)\n",
        "\n",
        " A\n",
        "\n",
        "[[1, 2, 3, 4]]\n",
        "\n",
        " L\n",
        "\n",
        "[[1, 2, 3]]"
      ]
    }
  ]
}