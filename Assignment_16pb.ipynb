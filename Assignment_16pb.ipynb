{
  "nbformat": 4,
  "nbformat_minor": 0,
  "metadata": {
    "colab": {
      "name": "Assignment_16pb.ipynb",
      "provenance": [],
      "collapsed_sections": []
    },
    "kernelspec": {
      "name": "python3",
      "display_name": "Python 3"
    },
    "language_info": {
      "name": "python"
    }
  },
  "cells": [
    {
      "cell_type": "markdown",
      "metadata": {
        "id": "Che57-Yo2A0o"
      },
      "source": [
        "1. Create a list called years_list, starting with the year of your birth, and each year thereafter until the year of your fifth birthday. For example, if you were born in 1980. the list would be years_list = [1980, 1981, 1982, 1983, 1984, 1985]."
      ]
    },
    {
      "cell_type": "code",
      "metadata": {
        "id": "QO4mhhXH2fiE"
      },
      "source": [
        "years_list = [1992,1993,1994,1995,1996]"
      ],
      "execution_count": null,
      "outputs": []
    },
    {
      "cell_type": "markdown",
      "metadata": {
        "id": "_U1osBpR4Vku"
      },
      "source": [
        "2. In which year in years_list was your third birthday? Remember, you were 0 years of age for your first year."
      ]
    },
    {
      "cell_type": "code",
      "metadata": {
        "colab": {
          "base_uri": "https://localhost:8080/"
        },
        "id": "dVlchaq84eIx",
        "outputId": "08f8492e-9f65-4432-8826-7f660a77bbc5"
      },
      "source": [
        "years_list = [1992,1993,1994,1995,1996]\n",
        "years_list[2]"
      ],
      "execution_count": null,
      "outputs": [
        {
          "output_type": "execute_result",
          "data": {
            "text/plain": [
              "1994"
            ]
          },
          "metadata": {
            "tags": []
          },
          "execution_count": 2
        }
      ]
    },
    {
      "cell_type": "markdown",
      "metadata": {
        "id": "vBpKZEMa4gc7"
      },
      "source": [
        "3.In the years list, which year were you the oldest?"
      ]
    },
    {
      "cell_type": "code",
      "metadata": {
        "colab": {
          "base_uri": "https://localhost:8080/"
        },
        "id": "F7M82YoV46Jg",
        "outputId": "160f0b1b-bb1a-45c4-b354-dbd787a87236"
      },
      "source": [
        "years_list = [1992,1993,1994,1995,1996]\n",
        "years_list[-1]"
      ],
      "execution_count": null,
      "outputs": [
        {
          "output_type": "execute_result",
          "data": {
            "text/plain": [
              "1996"
            ]
          },
          "metadata": {
            "tags": []
          },
          "execution_count": 3
        }
      ]
    },
    {
      "cell_type": "markdown",
      "metadata": {
        "id": "q2rFN_od4-GY"
      },
      "source": [
        "4. Make a list called things with these three strings as elements: \"mozzarella\", \"cinderella\", \"salmonella\"."
      ]
    },
    {
      "cell_type": "code",
      "metadata": {
        "colab": {
          "base_uri": "https://localhost:8080/"
        },
        "id": "Y03lkbWn5RIi",
        "outputId": "cd198e48-1edc-4e68-b3a1-9066b92e50e5"
      },
      "source": [
        "things = [\"mozzarella\", \"cinderella\", \"salmonella\"]\n",
        "print(things)"
      ],
      "execution_count": null,
      "outputs": [
        {
          "output_type": "stream",
          "text": [
            "['mozzarella', 'cinderella', 'salmonella']\n"
          ],
          "name": "stdout"
        }
      ]
    },
    {
      "cell_type": "markdown",
      "metadata": {
        "id": "qHfj42rl5hTd"
      },
      "source": [
        "5. Capitalize the element in things that refers to a person and then print the list. Did it change the element in the list?\n",
        "\n",
        "Ans:-No,It does not change the element in the list"
      ]
    },
    {
      "cell_type": "code",
      "metadata": {
        "colab": {
          "base_uri": "https://localhost:8080/"
        },
        "id": "dQSpFvhB5lPu",
        "outputId": "2dbd4907-c644-41d3-ff5d-9efed4448511"
      },
      "source": [
        "things = [\"mozzarella\", \"cinderella\", \"salmonella\"]\n",
        "\n",
        "capitalize_list = [x.capitalize() for x in things]\n",
        "print(capitalize_list)\n",
        "print(things)\n"
      ],
      "execution_count": null,
      "outputs": [
        {
          "output_type": "stream",
          "text": [
            "['Mozzarella', 'Cinderella', 'Salmonella']\n",
            "['mozzarella', 'cinderella', 'salmonella']\n"
          ],
          "name": "stdout"
        }
      ]
    },
    {
      "cell_type": "markdown",
      "metadata": {
        "id": "TQJUhW4Tlz_R"
      },
      "source": [
        "6. Make a surprise list with the elements \"Groucho,\" \"Chico,\" and \"Harpo.\""
      ]
    },
    {
      "cell_type": "code",
      "metadata": {
        "colab": {
          "base_uri": "https://localhost:8080/"
        },
        "id": "s1JnKuUvmIKf",
        "outputId": "f70d65fb-902d-4829-9e38-718f7eedd349"
      },
      "source": [
        "surprise_list = [\"Groucho\", \"Chico\", \"Harpo\"]\n",
        "print(surprise_list)"
      ],
      "execution_count": null,
      "outputs": [
        {
          "output_type": "stream",
          "text": [
            "['Groucho', 'Chico', 'Harpo']\n"
          ],
          "name": "stdout"
        }
      ]
    },
    {
      "cell_type": "markdown",
      "metadata": {
        "id": "t3QF8mo9mJ5q"
      },
      "source": [
        "7. Lowercase the last element of the surprise list, reverse it, and then capitalize it."
      ]
    },
    {
      "cell_type": "code",
      "metadata": {
        "colab": {
          "base_uri": "https://localhost:8080/",
          "height": 52
        },
        "id": "Yyq7CY7UmMoK",
        "outputId": "b94f38d1-081e-4954-cff0-4d5655bd6634"
      },
      "source": [
        "surprise_list = [\"Groucho\", \"Chico\", \"Harpo\"]\n",
        "print(surprise_list)\n",
        "surprise_list[-1] = surprise_list[-1].lower()\n",
        "surprise_list[-1] = surprise_list[-1][::-1]\n",
        "surprise_list[-1].capitalize()\n"
      ],
      "execution_count": null,
      "outputs": [
        {
          "output_type": "stream",
          "text": [
            "['Groucho', 'Chico', 'Harpo']\n"
          ],
          "name": "stdout"
        },
        {
          "output_type": "execute_result",
          "data": {
            "application/vnd.google.colaboratory.intrinsic+json": {
              "type": "string"
            },
            "text/plain": [
              "'Oprah'"
            ]
          },
          "metadata": {
            "tags": []
          },
          "execution_count": 4
        }
      ]
    },
    {
      "cell_type": "markdown",
      "metadata": {
        "id": "bjiFh-bpM7id"
      },
      "source": [
        "8. Make an English-to-French dictionary called e2f and print it. Here are your starter words: dog is chien, cat is chat, and walrus is morse."
      ]
    },
    {
      "cell_type": "code",
      "metadata": {
        "colab": {
          "base_uri": "https://localhost:8080/"
        },
        "id": "oEStaXSOM9dl",
        "outputId": "96b67a5d-f743-4385-869f-1c9d22fb2031"
      },
      "source": [
        "e2f = {'dog':'chien','cat':'chat','walrus':'morse'}\n",
        "print(e2f)"
      ],
      "execution_count": null,
      "outputs": [
        {
          "output_type": "stream",
          "text": [
            "{'dog': 'chien', 'cat': 'chat', 'walrus': 'morse'}\n"
          ],
          "name": "stdout"
        }
      ]
    },
    {
      "cell_type": "markdown",
      "metadata": {
        "id": "O6uohT2sRT3X"
      },
      "source": [
        "9. Write the French word for walrus in your three-word dictionary e2f."
      ]
    },
    {
      "cell_type": "code",
      "metadata": {
        "colab": {
          "base_uri": "https://localhost:8080/"
        },
        "id": "4-9D9PHDRWhw",
        "outputId": "14815044-47c2-48e5-c11f-39205b89f7df"
      },
      "source": [
        "print(e2f['walrus'])"
      ],
      "execution_count": null,
      "outputs": [
        {
          "output_type": "stream",
          "text": [
            "morse\n"
          ],
          "name": "stdout"
        }
      ]
    },
    {
      "cell_type": "markdown",
      "metadata": {
        "id": "LqvFfJwQR4mW"
      },
      "source": [
        "10. Make a French-to-English dictionary called f2e from e2f. Use the items method."
      ]
    },
    {
      "cell_type": "code",
      "metadata": {
        "colab": {
          "base_uri": "https://localhost:8080/"
        },
        "id": "4_KCttGgR-Ot",
        "outputId": "01be3cd0-c99d-43d1-8a21-7e3eefcfa24a"
      },
      "source": [
        "f2e = {}\n",
        "for english, french in e2f.items():\n",
        "    f2e[french] = english\n",
        "\n",
        "print(f2e)"
      ],
      "execution_count": null,
      "outputs": [
        {
          "output_type": "stream",
          "text": [
            "{'chien': 'dog', 'chat': 'cat', 'morse': 'walrus'}\n"
          ],
          "name": "stdout"
        }
      ]
    },
    {
      "cell_type": "markdown",
      "metadata": {
        "id": "XuwoQU-5S5-G"
      },
      "source": [
        "11. Print the English version of the French word chien using f2e."
      ]
    },
    {
      "cell_type": "code",
      "metadata": {
        "colab": {
          "base_uri": "https://localhost:8080/"
        },
        "id": "kIfXZc8dS_PP",
        "outputId": "e0188e6f-d69a-4a78-de83-fd0adb88fa21"
      },
      "source": [
        "print(f2e['chien'])"
      ],
      "execution_count": null,
      "outputs": [
        {
          "output_type": "stream",
          "text": [
            "dog\n"
          ],
          "name": "stdout"
        }
      ]
    },
    {
      "cell_type": "markdown",
      "metadata": {
        "id": "W4vJWdUrTLvi"
      },
      "source": [
        "12. Make and print a set of English words from the keys in e2f."
      ]
    },
    {
      "cell_type": "code",
      "metadata": {
        "colab": {
          "base_uri": "https://localhost:8080/"
        },
        "id": "6Qjr-cqyTR54",
        "outputId": "c3a7534a-b68e-4cd8-9d3b-edc9355dc211"
      },
      "source": [
        "print(list(e2f.keys()))"
      ],
      "execution_count": null,
      "outputs": [
        {
          "output_type": "stream",
          "text": [
            "['dog', 'cat', 'walrus']\n"
          ],
          "name": "stdout"
        }
      ]
    },
    {
      "cell_type": "markdown",
      "metadata": {
        "id": "Wgm3elhnUHjZ"
      },
      "source": [
        "13. Make a multilevel dictionary called life. Use these strings for the topmost keys: 'animals', 'plants', and 'other'. Make the 'animals' key refer to another dictionary with the keys 'cats', 'octopi', and 'emus'. Make the 'cats' key refer to a list of strings with the values 'Henri', 'Grumpy', and 'Lucy'. Make all the other keys refer to empty dictionaries."
      ]
    },
    {
      "cell_type": "code",
      "metadata": {
        "id": "f4mTIikxUJLc"
      },
      "source": [
        "life = { 'animals' : { 'cats' : [ 'Henri', 'Grumpy', 'Lucy' ], 'octopi' : {}, 'emus' : {}  }, 'plants' : {}, 'other' : {} }"
      ],
      "execution_count": null,
      "outputs": []
    },
    {
      "cell_type": "markdown",
      "metadata": {
        "id": "PS-it7BKy_BH"
      },
      "source": [
        "14. Print the top-level keys of life."
      ]
    },
    {
      "cell_type": "code",
      "metadata": {
        "colab": {
          "base_uri": "https://localhost:8080/"
        },
        "id": "18QYniDuzGQo",
        "outputId": "ebc01f79-2a79-419e-f4aa-4210f313ee74"
      },
      "source": [
        "print(life.keys())"
      ],
      "execution_count": null,
      "outputs": [
        {
          "output_type": "stream",
          "text": [
            "dict_keys(['animals', 'plants', 'other'])\n"
          ],
          "name": "stdout"
        }
      ]
    },
    {
      "cell_type": "markdown",
      "metadata": {
        "id": "sluvQevuzKZZ"
      },
      "source": [
        "15. Print the keys for life['animals']"
      ]
    },
    {
      "cell_type": "code",
      "metadata": {
        "colab": {
          "base_uri": "https://localhost:8080/"
        },
        "id": "BRGRojWdzN15",
        "outputId": "08ef7c20-28a2-4490-89e6-b38660d08157"
      },
      "source": [
        "life['animals']"
      ],
      "execution_count": null,
      "outputs": [
        {
          "output_type": "execute_result",
          "data": {
            "text/plain": [
              "{'cats': ['Henri', 'Grumpy', 'Lucy'], 'emus': {}, 'octopi': {}}"
            ]
          },
          "metadata": {
            "tags": []
          },
          "execution_count": 5
        }
      ]
    },
    {
      "cell_type": "markdown",
      "metadata": {
        "id": "RHR4knJQzXi2"
      },
      "source": [
        "16. Print the values for life['animals']['cats']"
      ]
    },
    {
      "cell_type": "code",
      "metadata": {
        "colab": {
          "base_uri": "https://localhost:8080/"
        },
        "id": "P2pWhO2Tzgb9",
        "outputId": "f8eb764e-e410-4209-d9f7-2c408d58f71b"
      },
      "source": [
        "life['animals']['cats']"
      ],
      "execution_count": null,
      "outputs": [
        {
          "output_type": "execute_result",
          "data": {
            "text/plain": [
              "['Henri', 'Grumpy', 'Lucy']"
            ]
          },
          "metadata": {
            "tags": []
          },
          "execution_count": 6
        }
      ]
    }
  ]
}