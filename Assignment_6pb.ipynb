{
  "nbformat": 4,
  "nbformat_minor": 0,
  "metadata": {
    "colab": {
      "name": "Assignment_6pb.ipynb",
      "provenance": [],
      "collapsed_sections": []
    },
    "kernelspec": {
      "name": "python3",
      "display_name": "Python 3"
    },
    "language_info": {
      "name": "python"
    }
  },
  "cells": [
    {
      "cell_type": "markdown",
      "metadata": {
        "id": "qaVLlHfQxxKp"
      },
      "source": [
        "1. What are escape characters, and how do you use them?"
      ]
    },
    {
      "cell_type": "markdown",
      "metadata": {
        "id": "2qWeWnDExz72"
      },
      "source": [
        "To insert characters that are illegal in a string, use an escape character.\n",
        "\n",
        "An escape character is a backslash \\ followed by the character you want to insert.\n",
        "\n",
        "An example of an illegal character is a double quote inside a string that is surrounded by double quotes:\n",
        "\n",
        "error --  txt = \"We are the so-called \"Vikings\" from the north.\"\n",
        "\n",
        "correct -- txt = \"We are the so-called \\\\\"Vikings\\\\\" from the north.\"\n",
        "need to write "
      ]
    },
    {
      "cell_type": "markdown",
      "metadata": {
        "id": "viYHSvGUzRh2"
      },
      "source": [
        "2.What do the escape characters n and t stand for?\n",
        "\n",
        "Ans:- character n stand for  newline and t stand for tab space\n",
        "\n"
      ]
    },
    {
      "cell_type": "markdown",
      "metadata": {
        "id": "ow7W2l0y0HXw"
      },
      "source": [
        "3. What is the way to include backslash characters in a string?\n",
        "\n",
        "Ans:- txt = \"We are the so-called \\\\\"Vikings\\\\\" from the north.\"\n"
      ]
    },
    {
      "cell_type": "code",
      "metadata": {
        "colab": {
          "base_uri": "https://localhost:8080/"
        },
        "id": "Umt9dno6V7-m",
        "outputId": "ddc8ad21-a9f0-40d1-9371-21b9eac76c8d"
      },
      "source": [
        "txt = \"We are the so-called \\\"Vikings\\\" from the north.\"\n",
        "print(txt)"
      ],
      "execution_count": 5,
      "outputs": [
        {
          "output_type": "stream",
          "text": [
            "We are the so-called \"Vikings\" from the north.\n"
          ],
          "name": "stdout"
        }
      ]
    },
    {
      "cell_type": "markdown",
      "metadata": {
        "id": "P4e1kvye0nDL"
      },
      "source": [
        "4. The string \"Howl's Moving Castle\" is a correct value. Why isn't the single quote character in the word Howl's not escaped a problem?\n",
        "\n",
        "Ans:-because we can change quotes from single to doubles,we can interchange the posion of quotes without any problems\n",
        "\n"
      ]
    },
    {
      "cell_type": "code",
      "metadata": {
        "colab": {
          "base_uri": "https://localhost:8080/"
        },
        "id": "D3JKYx4b08BU",
        "outputId": "451e9fd6-db1c-4e77-83b3-99ca42283e91"
      },
      "source": [
        "txt = \"Howl's Moving Castle\"\n",
        "print(txt)"
      ],
      "execution_count": null,
      "outputs": [
        {
          "output_type": "stream",
          "text": [
            "Howl's Moving Castle\n"
          ],
          "name": "stdout"
        }
      ]
    },
    {
      "cell_type": "markdown",
      "metadata": {
        "id": "auGNf1SA3XCH"
      },
      "source": [
        "5. How do you write a string of newlines if you don't want to use the n character?\n",
        "\n",
        "Ans:-using triple quotes and indent we can use new line in string"
      ]
    },
    {
      "cell_type": "code",
      "metadata": {
        "colab": {
          "base_uri": "https://localhost:8080/"
        },
        "id": "F9YbQTIvWf1I",
        "outputId": "b5985de7-4dad-4d41-b5a9-ca3bc9da982e"
      },
      "source": [
        "print('''Classes, in the other hand, can be defined in your main application code or inside modules imported by your application.\n",
        " Classes are the core of Object Oriented Programming and can contain properties and methods. \n",
        " You can create multiple instances of a class, but you cannot create instances of a module. You could compare modules to static classes or singletons.''', end = '')"
      ],
      "execution_count": 6,
      "outputs": [
        {
          "output_type": "stream",
          "text": [
            "Classes, in the other hand, can be defined in your main application code or inside modules imported by your application.\n",
            " Classes are the core of Object Oriented Programming and can contain properties and methods. \n",
            " You can create multiple instances of a class, but you cannot create instances of a module. You could compare modules to static classes or singletons."
          ],
          "name": "stdout"
        }
      ]
    },
    {
      "cell_type": "markdown",
      "metadata": {
        "id": "qkRJphQ05Zot"
      },
      "source": [
        "6. What are the values of the given expressions?\n",
        "\n",
        "Ans:-'Hello, world!'[1]\n",
        "\n",
        "'Hello, world!'[0:5]\n",
        "\n",
        "'Hello, world!'[:5]\n",
        "\n",
        "'Hello, world!'[3:]\n",
        "\n",
        "Ans:-"
      ]
    },
    {
      "cell_type": "code",
      "metadata": {
        "colab": {
          "base_uri": "https://localhost:8080/",
          "height": 86
        },
        "id": "MbAO7HUW9RlX",
        "outputId": "1c389961-a469-44e2-bad1-b335167d4425"
      },
      "source": [
        "t = 'Hello, world!'[1]\n",
        "t1 = 'Hello, world!'[0:5]\n",
        "t2 = 'Hello, world!'[:5]\n",
        "t3= 'Hello, world!'[3:]\n",
        "print(t)\n",
        "print(t1)\n",
        "print(t2)\n",
        "t3"
      ],
      "execution_count": null,
      "outputs": [
        {
          "output_type": "stream",
          "text": [
            "e\n",
            "Hello\n",
            "Hello\n"
          ],
          "name": "stdout"
        },
        {
          "output_type": "execute_result",
          "data": {
            "application/vnd.google.colaboratory.intrinsic+json": {
              "type": "string"
            },
            "text/plain": [
              "'lo, world!'"
            ]
          },
          "metadata": {
            "tags": []
          },
          "execution_count": 9
        }
      ]
    },
    {
      "cell_type": "markdown",
      "metadata": {
        "id": "xdhfg7aQ-Ufm"
      },
      "source": [
        "7. What are the values of the following expressions?\n",
        "\n",
        "'Hello'.upper() =='HELLO'\n",
        "\n",
        "'Hello'.upper().isupper() ==TRUE\n",
        "\n",
        "'Hello'.upper().lower() =='hello'\n",
        "\n"
      ]
    },
    {
      "cell_type": "markdown",
      "metadata": {
        "id": "oF1luAav-7Ce"
      },
      "source": [
        "8. What are the values of the following expressions?\n",
        "\n",
        "'Remember, remember, the fifth of July.'.split()\n",
        "\n",
        "'-'.join('There can only one.'.split())\n",
        "\n"
      ]
    },
    {
      "cell_type": "code",
      "metadata": {
        "colab": {
          "base_uri": "https://localhost:8080/"
        },
        "id": "kjLrxuIbGs3U",
        "outputId": "6e5cf57f-901a-4876-8f6d-29e5f39e9907"
      },
      "source": [
        "t = 'Remember, remember, the fifth of July.'.split()\n",
        "t\n",
        "print(t)"
      ],
      "execution_count": null,
      "outputs": [
        {
          "output_type": "execute_result",
          "data": {
            "text/plain": [
              "['Remember,', 'remember,', 'the', 'fifth', 'of', 'July.']"
            ]
          },
          "metadata": {
            "tags": []
          },
          "execution_count": 10
        }
      ]
    },
    {
      "cell_type": "code",
      "metadata": {
        "colab": {
          "base_uri": "https://localhost:8080/",
          "height": 35
        },
        "id": "N_YoL6ID-ijm",
        "outputId": "c7b9452a-eac6-47d5-e2e6-8f43b69109ea"
      },
      "source": [
        "t2 = '-'.join('There can only one.'.split())\n",
        "t2"
      ],
      "execution_count": null,
      "outputs": [
        {
          "output_type": "execute_result",
          "data": {
            "application/vnd.google.colaboratory.intrinsic+json": {
              "type": "string"
            },
            "text/plain": [
              "'There-can-only-one.'"
            ]
          },
          "metadata": {
            "tags": []
          },
          "execution_count": 11
        }
      ]
    },
    {
      "cell_type": "markdown",
      "metadata": {
        "id": "rB0z2HwVHR1d"
      },
      "source": [
        "9. What are the methods for right-justifying, left-justifying, and centering a string?\n",
        "\n",
        "\n",
        "Ans:- \n",
        "\n"
      ]
    },
    {
      "cell_type": "code",
      "metadata": {
        "colab": {
          "base_uri": "https://localhost:8080/"
        },
        "id": "5MxYyJDTI4XK",
        "outputId": "b9bab7b7-9b1b-47a5-8a7c-3c889d9626cd"
      },
      "source": [
        "cstr = \"I love geeksforgeeks\"\n",
        "  \n",
        "# Printing the original string\n",
        "print (\"The original string is : \\n\", cstr, \"\\n\")\n",
        "  \n",
        "# Printing the center aligned string \n",
        "print (\"The center aligned string is : \")\n",
        "print (cstr.center(40), \"\\n\")\n",
        "  \n",
        "\n",
        "print (\"Center aligned string with fillchr: \")\n",
        "print (cstr.center(40, '#'))\n",
        "print (cstr.ljust(40, '#'))\n",
        "print (cstr.rjust(40, '#'))\n",
        "\n",
        "\n",
        "#The original string is : \n",
        "# I love geeksforgeeks \n",
        "\n",
        "#The center aligned string is : \n",
        "          #I love geeksforgeeks           \n",
        "\n",
        "#Center aligned string with fillchr: \n",
        "##########I love geeksforgeeks##########"
      ],
      "execution_count": null,
      "outputs": [
        {
          "output_type": "stream",
          "text": [
            "The original string is : \n",
            " I love geeksforgeeks \n",
            "\n",
            "The center aligned string is : \n",
            "          I love geeksforgeeks           \n",
            "\n",
            "Center aligned string with fillchr: \n",
            "##########I love geeksforgeeks##########\n",
            "I love geeksforgeeks####################\n",
            "####################I love geeksforgeeks\n"
          ],
          "name": "stdout"
        }
      ]
    },
    {
      "cell_type": "markdown",
      "metadata": {
        "id": "Tea5n7K0KMyU"
      },
      "source": [
        "10. What is the best way to remove whitespace characters from the start or end?\n",
        "\n",
        "rstrip()\trstrip() method removes whitespace at the end of a string.\n",
        "\n",
        "lstrip()\tlstrip() method removes whitespace at the beginning of a string.\n",
        "\n",
        "strip()\tstrip() method removes whitespace at the beginning and end (both sides) of a string."
      ]
    },
    {
      "cell_type": "code",
      "metadata": {
        "colab": {
          "base_uri": "https://localhost:8080/",
          "height": 35
        },
        "id": "5YLXw5U6anje",
        "outputId": "aa28cd60-2f45-48fe-9ecf-a0dd6837bd2f"
      },
      "source": [
        "str = '   nitesh kumar'\n",
        "str.lstrip()"
      ],
      "execution_count": null,
      "outputs": [
        {
          "output_type": "execute_result",
          "data": {
            "application/vnd.google.colaboratory.intrinsic+json": {
              "type": "string"
            },
            "text/plain": [
              "'nitesh kumar'"
            ]
          },
          "metadata": {
            "tags": []
          },
          "execution_count": 7
        }
      ]
    },
    {
      "cell_type": "code",
      "metadata": {
        "colab": {
          "base_uri": "https://localhost:8080/",
          "height": 35
        },
        "id": "aegIZjPNjBwz",
        "outputId": "e5ca5f83-da93-4d8d-8b4e-5e15fe690bd4"
      },
      "source": [
        "str = 'nitesh kumar   '\n",
        "str.rstrip()"
      ],
      "execution_count": 7,
      "outputs": [
        {
          "output_type": "execute_result",
          "data": {
            "application/vnd.google.colaboratory.intrinsic+json": {
              "type": "string"
            },
            "text/plain": [
              "'nitesh kumar'"
            ]
          },
          "metadata": {
            "tags": []
          },
          "execution_count": 7
        }
      ]
    },
    {
      "cell_type": "code",
      "metadata": {
        "colab": {
          "base_uri": "https://localhost:8080/",
          "height": 35
        },
        "id": "m_CNstAfjG9S",
        "outputId": "f77b9504-2665-422d-8726-3a7568c6366b"
      },
      "source": [
        "str = '   nitesh kumar  '\n",
        "str.strip()"
      ],
      "execution_count": 8,
      "outputs": [
        {
          "output_type": "execute_result",
          "data": {
            "application/vnd.google.colaboratory.intrinsic+json": {
              "type": "string"
            },
            "text/plain": [
              "'nitesh kumar'"
            ]
          },
          "metadata": {
            "tags": []
          },
          "execution_count": 8
        }
      ]
    }
  ]
}