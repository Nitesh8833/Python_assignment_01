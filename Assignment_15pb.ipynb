{
  "nbformat": 4,
  "nbformat_minor": 0,
  "metadata": {
    "colab": {
      "name": "Assignment_15pb.ipynb",
      "provenance": [],
      "collapsed_sections": []
    },
    "kernelspec": {
      "name": "python3",
      "display_name": "Python 3"
    },
    "language_info": {
      "name": "python"
    }
  },
  "cells": [
    {
      "cell_type": "markdown",
      "metadata": {
        "id": "MI2lUgkwUkaQ"
      },
      "source": [
        "1.How many seconds are in an hour? Use the interactive interpreter as a calculator and multiply the number of seconds in a minute (60) by the number of minutes in an hour (also 60).\n"
      ]
    },
    {
      "cell_type": "code",
      "metadata": {
        "colab": {
          "base_uri": "https://localhost:8080/"
        },
        "id": "yxNgJwTyw89p",
        "outputId": "d25e66f2-4705-4ba8-c2b2-f20b54a33a92"
      },
      "source": [
        "\n",
        "print(60 * 60 ,'Seconds')"
      ],
      "execution_count": null,
      "outputs": [
        {
          "output_type": "stream",
          "text": [
            "3600 Seconds\n"
          ],
          "name": "stdout"
        }
      ]
    },
    {
      "cell_type": "markdown",
      "metadata": {
        "id": "g64fx8s0xT9t"
      },
      "source": [
        "2. Assign the result from the previous task (seconds in an hour) to a variable called seconds_per_hour."
      ]
    },
    {
      "cell_type": "code",
      "metadata": {
        "id": "HGU-VVPtxci9"
      },
      "source": [
        "seconds_per_hour = 3600 "
      ],
      "execution_count": null,
      "outputs": []
    },
    {
      "cell_type": "markdown",
      "metadata": {
        "id": "9f7lAe6JU1T_"
      },
      "source": [
        "3. How many seconds do you think there are in a day? Make use of the variables seconds per hour and minutes per hour."
      ]
    },
    {
      "cell_type": "code",
      "metadata": {
        "colab": {
          "base_uri": "https://localhost:8080/"
        },
        "id": "R3YVqc2qxptp",
        "outputId": "48833d54-bd58-49ee-dfe0-31d742085049"
      },
      "source": [
        "seconds_per_hour = 3600\n",
        "minutes_per_hour = 60\n",
        "print(seconds_per_hour * 24)"
      ],
      "execution_count": null,
      "outputs": [
        {
          "output_type": "stream",
          "text": [
            "86400\n"
          ],
          "name": "stdout"
        }
      ]
    },
    {
      "cell_type": "markdown",
      "metadata": {
        "id": "uDzp6bdxyJqP"
      },
      "source": [
        "4. Calculate seconds per day again, but this time save the result in a variable called seconds_per_day"
      ]
    },
    {
      "cell_type": "code",
      "metadata": {
        "id": "Zwy6d65VyNkI"
      },
      "source": [
        "seconds_per_hour = 3600\n",
        "minutes_per_hour = 60\n",
        "seconds_per_day = seconds_per_hour * 24\n",
        "print(seconds_per_day)"
      ],
      "execution_count": null,
      "outputs": []
    },
    {
      "cell_type": "markdown",
      "metadata": {
        "id": "Se4zq2g9ydsz"
      },
      "source": [
        "5. Divide seconds_per_day by seconds_per_hour. Use floating-point (/) division."
      ]
    },
    {
      "cell_type": "code",
      "metadata": {
        "colab": {
          "base_uri": "https://localhost:8080/"
        },
        "id": "D2ZIMDN5yhCS",
        "outputId": "796543a2-10e8-4d29-8e6b-79e36d6f6ad2"
      },
      "source": [
        "seconds_per_hour = 3600\n",
        "seconds_per_day = seconds_per_hour * 24\n",
        "divi = seconds_per_day / seconds_per_hour;\n",
        "print(divi)\n"
      ],
      "execution_count": null,
      "outputs": [
        {
          "output_type": "stream",
          "text": [
            "24.0\n"
          ],
          "name": "stdout"
        }
      ]
    },
    {
      "cell_type": "markdown",
      "metadata": {
        "id": "baCn5Ah0zNvf"
      },
      "source": [
        "6. Divide seconds_per_day by seconds_per_hour, using integer (//) division. Did this number agree with the floating-point value from the previous question, aside from the final .0?"
      ]
    },
    {
      "cell_type": "code",
      "metadata": {
        "colab": {
          "base_uri": "https://localhost:8080/"
        },
        "id": "lA6FhKYqzOcr",
        "outputId": "4742f5a1-da5a-4eb1-b335-47d4b7d264e8"
      },
      "source": [
        "seconds_per_hour = 3600\n",
        "seconds_per_day = seconds_per_hour * 24\n",
        "divi1 = seconds_per_day // seconds_per_hour\n",
        "print(divi1)"
      ],
      "execution_count": null,
      "outputs": [
        {
          "output_type": "stream",
          "text": [
            "24\n"
          ],
          "name": "stdout"
        }
      ]
    },
    {
      "cell_type": "markdown",
      "metadata": {
        "id": "YesqY9jEzuU8"
      },
      "source": [
        "7. Write a generator, genPrimes, that returns the sequence of prime numbers on successive calls to its next() method: 2, 3, 5, 7, 11, ..."
      ]
    },
    {
      "cell_type": "code",
      "metadata": {
        "colab": {
          "base_uri": "https://localhost:8080/"
        },
        "id": "UOCGOg0MzvwA",
        "outputId": "d6971d69-67d3-42a1-f8cc-ea547ce30a44"
      },
      "source": [
        "def genPrimes():\n",
        "  yield '2'\n",
        "  yield '3'\n",
        "  yield '5'\n",
        "  yield '7'\n",
        "  yield '11'\n",
        "  yield '13'\n",
        "  yield '17'\n",
        "  yield '19' \n",
        " \n",
        "g=genPrimes()  \n",
        " \n",
        "print(next(g)) \n",
        "print(next(g)) \n",
        "print(next(g)) \n",
        "print(next(g))\n",
        "print(next(g)) \n",
        "print(next(g))  "
      ],
      "execution_count": null,
      "outputs": [
        {
          "output_type": "stream",
          "text": [
            "2\n",
            "3\n",
            "5\n",
            "7\n",
            "11\n",
            "13\n"
          ],
          "name": "stdout"
        }
      ]
    }
  ]
}