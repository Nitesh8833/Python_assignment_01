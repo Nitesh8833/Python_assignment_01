{
  "nbformat": 4,
  "nbformat_minor": 0,
  "metadata": {
    "colab": {
      "name": "Assignment_3pb.ipynb",
      "provenance": [],
      "collapsed_sections": []
    },
    "kernelspec": {
      "name": "python3",
      "display_name": "Python 3"
    }
  },
  "cells": [
    {
      "cell_type": "markdown",
      "metadata": {
        "id": "eE523tIOgcSW"
      },
      "source": [
        "1.Why are functions advantageous to have in your programs?\n",
        "\n",
        "Ans:-It helps to divide the large programs into small groups so that we can read the code, and debug the program faster and better.\n",
        "\n",
        "Python Functions stop us from writing the same logic various times. We can bind the logic in one function and then call the same over and over.\n",
        "\n",
        "Many persons can work on the same program by assigning different functions to each of them.\n",
        "\n",
        "It encourages us to call the same function with different inputs over multiple times.\n",
        "\n"
      ]
    },
    {
      "cell_type": "markdown",
      "metadata": {
        "id": "MpW5jeycg-_X"
      },
      "source": [
        "2. When does the code in a function run: when it's specified or when it's called?\n",
        "\n",
        "A function is a block of code which only runs when it is called. You can pass data, known as parameters, into a function. A function can return data as a result\n",
        "Wherever we need  that function we call that function at that place\n"
      ]
    },
    {
      "cell_type": "markdown",
      "metadata": {
        "id": "cUoF7_nX2MOQ"
      },
      "source": [
        "3.What statement creates a function?\n",
        "\n",
        "Ans:- def raju():\n"
      ]
    },
    {
      "cell_type": "code",
      "metadata": {
        "id": "-1b2EEfz2e5k"
      },
      "source": [
        "def raju():\n",
        "  print(\"raj\")"
      ],
      "execution_count": null,
      "outputs": []
    },
    {
      "cell_type": "markdown",
      "metadata": {
        "id": "x5mmoWYI2nJd"
      },
      "source": [
        "4.What is the difference between a function and a function call?\n",
        "\n",
        "Ans\n",
        "\n",
        "Using a function to do a particular task any point in program is called as function call. A function is procedure to achieve a particular result while function call is using this function to achive that task."
      ]
    },
    {
      "cell_type": "markdown",
      "metadata": {
        "id": "A-BRrknk23me"
      },
      "source": [
        "5.How many global scopes are there in a Python program? How many local scopes?\n",
        "\n",
        "Ans:-Only one global scope in python program.Many local scope in python program\n"
      ]
    },
    {
      "cell_type": "markdown",
      "metadata": {
        "id": "7E5L_zee4YB0"
      },
      "source": [
        "6.What happens to variables in a local scope when the function call returns?\n",
        "\n",
        "Any variables assigned in  function exist within the local scope. When the function returns, the local scope is destroyed, and these variables are forgotten."
      ]
    },
    {
      "cell_type": "markdown",
      "metadata": {
        "id": "_XUUFRYYB9mm"
      },
      "source": [
        "7. What is the concept of a return value? Is it possible to have a return value in an expression?\n",
        "\n",
        "Ans:-\n",
        "A return statement is used to end the execution of the function call and “returns” the result (value of the expression following the return keyword) to the caller. The statements after the return statements are not executed. If the return statement is without any expression, then the special value None is returned.Return statement can not be used outside the function.\n",
        "\n",
        "yes.\n",
        "\n",
        "\n"
      ]
    },
    {
      "cell_type": "markdown",
      "metadata": {
        "id": "1dRxmaZmIS0b"
      },
      "source": [
        "8. If a function does not have a return statement, what is the return value of a call to that function?\n",
        "\n",
        "If the function have no return statement then it print the result of function execution.If the return statement is without any value, then the special value None is returned"
      ]
    },
    {
      "cell_type": "markdown",
      "metadata": {
        "id": "rbsRpOmCIhoQ"
      },
      "source": [
        "9. How do you make a function variable refer to the global variable?\n",
        "\n",
        "\n",
        "Ans:- we refer function variable to global variable by functionname.variablename\n",
        "for example please look into the below example"
      ]
    },
    {
      "cell_type": "code",
      "metadata": {
        "colab": {
          "base_uri": "https://localhost:8080/"
        },
        "id": "HKQ6qdcDJ9qd",
        "outputId": "1a5e5921-0a1a-4e50-97ca-66323c86db98"
      },
      "source": [
        "\n",
        "def hello():\n",
        "    \n",
        "    hello.bye = 42 \n",
        "    sigh = 10\n",
        "\n",
        "hello()\n",
        "print(hello.bye)"
      ],
      "execution_count": null,
      "outputs": [
        {
          "output_type": "stream",
          "text": [
            "42\n"
          ],
          "name": "stdout"
        }
      ]
    },
    {
      "cell_type": "markdown",
      "metadata": {
        "id": "7N3etvHzKtkY"
      },
      "source": [
        "10. What is the data type of None?\n",
        "\n",
        "Ans:- NoneType"
      ]
    },
    {
      "cell_type": "code",
      "metadata": {
        "colab": {
          "base_uri": "https://localhost:8080/"
        },
        "id": "uUHFiUaFKxP_",
        "outputId": "cf22744f-eaec-4016-bff9-4f2112aa59bf"
      },
      "source": [
        "var = None\n",
        "type(var)"
      ],
      "execution_count": null,
      "outputs": [
        {
          "output_type": "execute_result",
          "data": {
            "text/plain": [
              "NoneType"
            ]
          },
          "metadata": {
            "tags": []
          },
          "execution_count": 5
        }
      ]
    },
    {
      "cell_type": "markdown",
      "metadata": {
        "id": "_jAV5CteNvgs"
      },
      "source": [
        "11. What does the sentence import areallyourpetsnamederic do?\n",
        "\n",
        "That import statement imports a module named areallyourpetsnamederic.\n"
      ]
    },
    {
      "cell_type": "markdown",
      "metadata": {
        "id": "_1IYo6XgO_ev"
      },
      "source": [
        "12. If you had a bacon() feature in a spam module, what would you call it after importing spam?\n",
        "\n",
        "Ans:-import spam\n",
        "bacon():\n",
        "\n"
      ]
    },
    {
      "cell_type": "markdown",
      "metadata": {
        "id": "9Lk9OJmNUr20"
      },
      "source": [
        "13.What can you do to save a programme from crashing if it encounters an error?\n",
        "\n",
        "\n",
        "Ans:- By Exception Handling\n"
      ]
    },
    {
      "cell_type": "markdown",
      "metadata": {
        "id": "GKJWTW_XkYoU"
      },
      "source": [
        "14. What is the purpose of the try clause? What is the purpose of the except clause?\n",
        "\n",
        "Ans:-The try except statement can handle exceptions. Exceptions may happen when you run a program.\n",
        "Exceptions are errors that happen during execution of the program. Python won’t tell you about errors like syntax errors (grammar faults), instead it will abruptly stop.\n",
        "\n",
        "try: the code with the exception(s) to catch. If an exception is raised, it jumps straight into the except block.\n",
        "\n",
        "except: this code is only executed if an exception occured in the try block. The except block is required with a try block, even if it contains only the pass statement."
      ]
    }
  ]
}