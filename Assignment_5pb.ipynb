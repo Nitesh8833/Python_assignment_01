{
  "nbformat": 4,
  "nbformat_minor": 0,
  "metadata": {
    "colab": {
      "name": "Assignment_5pb.ipynb",
      "provenance": [],
      "collapsed_sections": []
    },
    "kernelspec": {
      "name": "python3",
      "display_name": "Python 3"
    },
    "language_info": {
      "name": "python"
    }
  },
  "cells": [
    {
      "cell_type": "markdown",
      "metadata": {
        "id": "sq601zS4Xxxx"
      },
      "source": [
        "1. What does an empty dictionary's code look like?"
      ]
    },
    {
      "cell_type": "code",
      "metadata": {
        "id": "SDcaUgRuX1Kn"
      },
      "source": [
        "items= {}\n",
        "items= dict()"
      ],
      "execution_count": null,
      "outputs": []
    },
    {
      "cell_type": "markdown",
      "metadata": {
        "id": "QRCG4xeBYT6U"
      },
      "source": [
        "2. What is the value of a dictionary value with the key 'foo' and the value 42?"
      ]
    },
    {
      "cell_type": "code",
      "metadata": {
        "colab": {
          "base_uri": "https://localhost:8080/"
        },
        "id": "1rZKAN8EYcZi",
        "outputId": "35e35b44-5e75-435d-f22d-c1536c1b9190"
      },
      "source": [
        "items = {\"foo\": 42}\n",
        "print(items['foo'])"
      ],
      "execution_count": null,
      "outputs": [
        {
          "output_type": "stream",
          "text": [
            "42\n"
          ],
          "name": "stdout"
        }
      ]
    },
    {
      "cell_type": "markdown",
      "metadata": {
        "id": "RgjXkSnOaM5o"
      },
      "source": [
        "3. What is the most significant distinction between a dictionary and a list?\n",
        "\n",
        "Ans:-\n",
        "\n",
        "-------------------------------List---------------------------------------------\n",
        "\n",
        "\n",
        "*   List is a collection of index values pairs as that of array in c++.\n",
        "*   List is created by placing elements in [ ] seperated by commas “, “\n",
        "\n",
        "\n",
        "*   The indices of list are integers starting from 0.\n",
        "*   The elements are accessed via indices\n",
        "\n",
        "\n",
        "*   The order of the elements entered are maintained.\n",
        "\n",
        "\n",
        "\n",
        "----------------------------Dictionary------------------------------------------\n",
        "\n",
        "\n",
        "*   Dictionary is a hashed structure of key and value pairs.\n",
        "*   Dictionary is created by placing elements in { } as “key”:”value”, each key value pair is seperated by commas “, ”\n",
        "\n",
        "\n",
        "*   The keys of dictionary can be of any data type.\n",
        "*   The elements are accessed via key-values.\n",
        "\n",
        "\n",
        "*   There is no guarantee for maintaining order.\n",
        "*   \n",
        "\n",
        "\n",
        "\n",
        "\n",
        "\n",
        "\n",
        "\n",
        "\n",
        "\n",
        "\n",
        "\n",
        "\n",
        "\n",
        "\n",
        "\n",
        "\n",
        "\n",
        "\n",
        "\n",
        "\n"
      ]
    },
    {
      "cell_type": "markdown",
      "metadata": {
        "id": "9OEtfwMGcDSx"
      },
      "source": [
        "4. What happens if you try to access spam['foo'] if spam is {'bar': 100}?\n",
        "\n",
        "Ans:- it will show error."
      ]
    },
    {
      "cell_type": "code",
      "metadata": {
        "colab": {
          "base_uri": "https://localhost:8080/",
          "height": 197
        },
        "id": "ZhsLl-jgcUXM",
        "outputId": "8cf0d95e-f521-4b5f-ea3e-204bc8da795c"
      },
      "source": [
        "items = {\"foo\": 42}\n",
        "spam ={'bar':100}\n",
        "spam['foo']"
      ],
      "execution_count": null,
      "outputs": [
        {
          "output_type": "error",
          "ename": "KeyError",
          "evalue": "ignored",
          "traceback": [
            "\u001b[0;31m---------------------------------------------------------------------------\u001b[0m",
            "\u001b[0;31mKeyError\u001b[0m                                  Traceback (most recent call last)",
            "\u001b[0;32m<ipython-input-9-1a4e4de66e79>\u001b[0m in \u001b[0;36m<module>\u001b[0;34m()\u001b[0m\n\u001b[1;32m      1\u001b[0m \u001b[0mitems\u001b[0m \u001b[0;34m=\u001b[0m \u001b[0;34m{\u001b[0m\u001b[0;34m\"foo\"\u001b[0m\u001b[0;34m:\u001b[0m \u001b[0;36m42\u001b[0m\u001b[0;34m}\u001b[0m\u001b[0;34m\u001b[0m\u001b[0;34m\u001b[0m\u001b[0m\n\u001b[1;32m      2\u001b[0m \u001b[0mspam\u001b[0m \u001b[0;34m=\u001b[0m\u001b[0;34m{\u001b[0m\u001b[0;34m'bar'\u001b[0m\u001b[0;34m:\u001b[0m\u001b[0;36m100\u001b[0m\u001b[0;34m}\u001b[0m\u001b[0;34m\u001b[0m\u001b[0;34m\u001b[0m\u001b[0m\n\u001b[0;32m----> 3\u001b[0;31m \u001b[0mspam\u001b[0m\u001b[0;34m[\u001b[0m\u001b[0;34m'foo'\u001b[0m\u001b[0;34m]\u001b[0m\u001b[0;34m\u001b[0m\u001b[0;34m\u001b[0m\u001b[0m\n\u001b[0m",
            "\u001b[0;31mKeyError\u001b[0m: 'foo'"
          ]
        }
      ]
    },
    {
      "cell_type": "markdown",
      "metadata": {
        "id": "3iAcSEuTfdZt"
      },
      "source": [
        "5. If a dictionary is stored in spam, what is the difference between the expressions 'cat' in spam and 'cat' in spam.keys()?\n",
        "\n",
        "Ans:- spam ={'cat':'cat'}\n",
        "      spam.keys()\n",
        "\n"
      ]
    },
    {
      "cell_type": "code",
      "metadata": {
        "colab": {
          "base_uri": "https://localhost:8080/"
        },
        "id": "0_n5W4OzgokY",
        "outputId": "f3952de5-531f-47a8-925f-effa948bfe8e"
      },
      "source": [
        "spam ={'cat':'cat'}\n",
        "\n",
        "spam.keys()"
      ],
      "execution_count": null,
      "outputs": [
        {
          "output_type": "execute_result",
          "data": {
            "text/plain": [
              "dict_keys(['cat'])"
            ]
          },
          "metadata": {
            "tags": []
          },
          "execution_count": 11
        }
      ]
    },
    {
      "cell_type": "markdown",
      "metadata": {
        "id": "SIo5GIXvlFmo"
      },
      "source": [
        "6. If a dictionary is stored in spam, what is the difference between the expressions 'cat' in spam and 'cat' in spam.values()?\n",
        "\n"
      ]
    },
    {
      "cell_type": "code",
      "metadata": {
        "colab": {
          "base_uri": "https://localhost:8080/"
        },
        "id": "GN47dS7mlHr_",
        "outputId": "10f4a182-e962-4759-ca5b-acef9ad534f7"
      },
      "source": [
        "spam ={'cat':'cat'}\n",
        "\n",
        "spam.values()"
      ],
      "execution_count": null,
      "outputs": [
        {
          "output_type": "execute_result",
          "data": {
            "text/plain": [
              "dict_values(['cat'])"
            ]
          },
          "metadata": {
            "tags": []
          },
          "execution_count": 12
        }
      ]
    },
    {
      "cell_type": "markdown",
      "metadata": {
        "id": "5wcp6bP2lbTn"
      },
      "source": [
        "7. What is a shortcut for the following code?\n",
        "if 'color' not in spam:\n",
        "spam['color'] = 'black'\n",
        "\n",
        "\n"
      ]
    },
    {
      "cell_type": "code",
      "metadata": {
        "colab": {
          "base_uri": "https://localhost:8080/",
          "height": 35
        },
        "id": "SpGC51nNldPn",
        "outputId": "14dafa51-c1b5-4fdf-dc71-f740704070b1"
      },
      "source": [
        "if 'color' != spam:\n",
        "  spam['color'] = 'black'\n",
        "\n",
        "spam.setdefault('color', 'black')\n",
        "\n"
      ],
      "execution_count": null,
      "outputs": [
        {
          "output_type": "execute_result",
          "data": {
            "application/vnd.google.colaboratory.intrinsic+json": {
              "type": "string"
            },
            "text/plain": [
              "'black'"
            ]
          },
          "metadata": {
            "tags": []
          },
          "execution_count": 15
        }
      ]
    },
    {
      "cell_type": "markdown",
      "metadata": {
        "id": "ntcihmABm7to"
      },
      "source": [
        "8. How do you \"pretty print\" dictionary values using which module and function?"
      ]
    },
    {
      "cell_type": "code",
      "metadata": {
        "id": "d-sWTKgCnAhW"
      },
      "source": [
        "The pprint module provides a capability to “pretty-print” arbitrary Python data structures in a well-formatted and more readable way!"
      ],
      "execution_count": null,
      "outputs": []
    }
  ]
}