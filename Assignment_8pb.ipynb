{
  "nbformat": 4,
  "nbformat_minor": 0,
  "metadata": {
    "colab": {
      "name": "Assignment_8pb.ipynb",
      "provenance": [],
      "collapsed_sections": []
    },
    "kernelspec": {
      "name": "python3",
      "display_name": "Python 3"
    },
    "language_info": {
      "name": "python"
    }
  },
  "cells": [
    {
      "cell_type": "markdown",
      "metadata": {
        "id": "X5X1zkhRhfDd"
      },
      "source": [
        " Is the Python Standard Library included with PyInputPlus?"
      ]
    },
    {
      "cell_type": "markdown",
      "metadata": {
        "id": "X-VL43Syhh-s"
      },
      "source": [
        "NO"
      ]
    },
    {
      "cell_type": "markdown",
      "metadata": {
        "id": "YtTKSDB-zLvg"
      },
      "source": [
        "2. Why is PyInputPlus commonly imported with import pyinputplus as pypi?"
      ]
    },
    {
      "cell_type": "markdown",
      "metadata": {
        "id": "aeHl8shnzPeD"
      },
      "source": [
        "PyInputPlus is a Python module used for taking inputs with additional validation features. PyInputPlus will keep asking the user for text until they enter valid input."
      ]
    },
    {
      "cell_type": "markdown",
      "metadata": {
        "id": "mJ5tkdmShgFc"
      },
      "source": [
        "3. How do you distinguish between inputInt() and inputFloat()?"
      ]
    },
    {
      "cell_type": "markdown",
      "metadata": {
        "id": "OpXaPtGK3ah3"
      },
      "source": [
        "InputInt() only input integer value and qand inputFloat() only input float value\n",
        "\n",
        "inputInt() : Accepts an integer value. This also takes additional parameters ‘min’, ‘max’, ‘greaterThan’ and ‘lessThan’  for bounds. Returns an int.\n",
        "\n",
        "inputFloat() : Accepts a floating-point numeric value. Also takes additional ‘min’, ‘max’, ‘greaterThan’ and ‘lessThan’  parameters. Returns a float.\n",
        "\n"
      ]
    },
    {
      "cell_type": "markdown",
      "metadata": {
        "id": "6YYWCyxk3XLE"
      },
      "source": [
        "4. Using PyInputPlus, how do you ensure that the user enters a whole number between 0 and 99?"
      ]
    },
    {
      "cell_type": "code",
      "metadata": {
        "id": "KX_ds0tp4uOT"
      },
      "source": [
        "import pyinputplus as pyip\n",
        "  \n",
        "# integer input with\n",
        "# specific bounds\n",
        "inp = pyip.inputInt(prompt = \"Enter an Integer... \",\n",
        "                    min = 0, lessThan = 100 )\n",
        "  \n",
        "print(inp)"
      ],
      "execution_count": null,
      "outputs": []
    },
    {
      "cell_type": "markdown",
      "metadata": {
        "id": "NS7yLoiR3q08"
      },
      "source": [
        "5. What is transferred to the keyword arguments allowRegexes and blockRegexes?\n",
        "\n",
        "Ans:-We can set a list of regex strings to the allowRegexes parameter to the PyInputPlus functions.\n",
        "For example, if we want to make sure the user enters a phone number, we can write:\n",
        "import pyinputplus\n",
        "phone = pyinputplus.inputNum(prompt='What is your phone?',  allowRegexes=[r'\\d{3}-\\d{3}-\\d{4}', r'None'])\n",
        "print('Your phone is', phone)\n",
        "In the code above, we allow phone numbers to be entered as the input value by setting a list of regex with the phone number regex to it.\n",
        "Then we have to enter a phone number or 'None' before we can proceed.\n",
        "\n"
      ]
    },
    {
      "cell_type": "markdown",
      "metadata": {
        "id": "OlPCZH121_fw"
      },
      "source": [
        "6. If a blank input is entered three times, what does inputStr(limit=3) do?\n",
        "\n"
      ]
    },
    {
      "cell_type": "markdown",
      "metadata": {
        "id": "l6bYyQK1AXyd"
      },
      "source": [
        "Ans:-ValidationException \n",
        "\n",
        "RetryLimitException"
      ]
    },
    {
      "cell_type": "code",
      "metadata": {
        "colab": {
          "base_uri": "https://localhost:8080/"
        },
        "id": "8uTJntkZ_eVY",
        "outputId": "1ae65a11-9849-413b-9cb3-68533c5ff148"
      },
      "source": [
        "import pyinputplus as pyip\n",
        "  \n",
        "# integer input with\n",
        "# limited number of tries\n",
        "inp = pyip.inputStr(prompt = \"Enter an String... \", \n",
        "              default = 'hello',      limit = 3)\n",
        "  \n",
        "print(inp)"
      ],
      "execution_count": null,
      "outputs": [
        {
          "output_type": "stream",
          "text": [
            "Enter an String... \n",
            "Blank values are not allowed.\n",
            "Enter an String... \n",
            "Blank values are not allowed.\n",
            "Enter an String... \n",
            "Blank values are not allowed.\n",
            "hello\n"
          ],
          "name": "stdout"
        }
      ]
    },
    {
      "cell_type": "markdown",
      "metadata": {
        "id": "pDjOr6SsAupx"
      },
      "source": [
        "7. If blank input is entered three times, what does inputStr(limit=3, default='hello') do?\n",
        "\n"
      ]
    },
    {
      "cell_type": "markdown",
      "metadata": {
        "id": "N3BxgUo5BWbJ"
      },
      "source": [
        "Ans:- It will print hello at third time and progran terminates\n"
      ]
    }
  ]
}