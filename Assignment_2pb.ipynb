{
  "nbformat": 4,
  "nbformat_minor": 0,
  "metadata": {
    "colab": {
      "name": "Assignment_2pb.ipynb",
      "provenance": [],
      "collapsed_sections": []
    },
    "kernelspec": {
      "name": "python3",
      "display_name": "Python 3"
    }
  },
  "cells": [
    {
      "cell_type": "markdown",
      "metadata": {
        "id": "NPyutrL4BZAW"
      },
      "source": [
        "1.What are the two values of the Boolean data type? How do you write them?"
      ]
    },
    {
      "cell_type": "markdown",
      "metadata": {
        "id": "6PifUmZYBfZ-"
      },
      "source": [
        "Ans:- Two value of boolean data type is \"True\" and \"False\"\n",
        "\n",
        "a = 10;\n",
        "b = 20\n",
        "\n",
        "print(a == b)\n",
        "\n",
        "Output: False\n",
        "---\n",
        "a = 10\n",
        "\n",
        "b = 10\n",
        "\n",
        "print(a == b)\n",
        "\n",
        "Output: True"
      ]
    },
    {
      "cell_type": "markdown",
      "metadata": {
        "id": "H3cqu55PHcRO"
      },
      "source": [
        "2. What are the three different types of Boolean operators?"
      ]
    },
    {
      "cell_type": "markdown",
      "metadata": {
        "id": "C_XUjn9hHfda"
      },
      "source": [
        "AND,OR,NOT"
      ]
    },
    {
      "cell_type": "markdown",
      "metadata": {
        "id": "UCvbJ4X9JHqq"
      },
      "source": [
        "3. Make a list of each Boolean operator's truth tables (i.e. every possible combination of Boolean values for the operator and what it evaluate ).\n"
      ]
    },
    {
      "cell_type": "markdown",
      "metadata": {
        "id": "YgO95Xt7Jrtz"
      },
      "source": [
        "Ans:-Common boolean operators are:-\n",
        "\n",
        "1)OR\n",
        "\n",
        "2)AND\n",
        "\n",
        "3)NOT\n",
        "\n",
        "4)== (equivalent)\n",
        "\n",
        "5)!= (not equivalent)\n",
        "\n",
        "1) OR\n",
        "\n",
        "A\tB\tY\n",
        "\n",
        "0\t0\t0\n",
        "\n",
        "0\t1\t1\n",
        "\n",
        "1\t0\t1\n",
        "\n",
        "1\t1\t1\n",
        "\n",
        "2)AND\n",
        "\n",
        "A\tB\tY\n",
        "\n",
        "0\t0\t0\n",
        "\n",
        "0\t1\t0\n",
        "\n",
        "1\t0\t0\n",
        "\n",
        "1\t1\t1\n",
        "\n",
        "3)NOT\n",
        "\n",
        "A\tY\n",
        "\n",
        "0\t1\n",
        "\n",
        "1\t0\n",
        "\n"
      ]
    },
    {
      "cell_type": "markdown",
      "metadata": {
        "id": "OtI3c9kwLn8m"
      },
      "source": [
        "4. What are the values of the following expressions?\n",
        "\n",
        "(5 > 4) and (3 == 5) = False\n",
        "\n",
        "not (5 > 4) = False\n",
        "\n",
        "(5 > 4) or (3 == 5) = True\n",
        "\n",
        "not ((5 > 4) or (3 == 5)) = False\n",
        "\n",
        "(True and True) and (True == False) = False\n",
        "\n",
        "(not False) or (not True) = True\n",
        "\n",
        "\n"
      ]
    },
    {
      "cell_type": "markdown",
      "metadata": {
        "id": "DOIwASgxM2lT"
      },
      "source": [
        "5. What are the six comparison operators?\n",
        "\n",
        "Ans:- The operators include: >, <, >=, <=, ===, and !==."
      ]
    },
    {
      "cell_type": "markdown",
      "metadata": {
        "id": "wKYTD98bNjl8"
      },
      "source": [
        "6. How do you tell the difference between the equal to and assignment operators?  Describe a condition and when you would use one.\n",
        "\n",
        "Ans:-\n",
        " Assignment Operators are used to assigning values to variables. \n",
        "\n",
        " a = 3\n",
        "\n",
        "print(a)\n",
        "\n",
        "Python Equal is a Comparison Operator used to check if two values are equal.\n",
        "\n",
        "a = 10\n",
        "\n",
        "b = 12\n",
        "\n",
        "print(a == b)\n",
        "\n"
      ]
    },
    {
      "cell_type": "markdown",
      "metadata": {
        "id": "1cXcyDI8BglG"
      },
      "source": [
        "7. Identify the three blocks in this code:\n",
        "\n",
        "spam = 0 (block 1)\n",
        "\n",
        "if spam == 10:\n",
        "print('eggs')  (block 2)\n",
        "\n",
        "if spam > 5:  (block 3)\n",
        "\n",
        "print('bacon')\n",
        "else:\n",
        "\n",
        "print('ham')\n",
        "\n",
        "print('spam')\n",
        "\n",
        "print('spam')\n"
      ]
    },
    {
      "cell_type": "markdown",
      "metadata": {
        "id": "OghL5yXVPsSW"
      },
      "source": [
        "8. Write code that prints Hello if 1 is stored in spam, prints Howdy if 2 is stored in spam, and prints Greetings! if anything else is stored in spam."
      ]
    },
    {
      "cell_type": "code",
      "metadata": {
        "colab": {
          "base_uri": "https://localhost:8080/"
        },
        "id": "jMXf6qTTCJ1i",
        "outputId": "3d20999c-724c-4f32-e759-eae03b15636a"
      },
      "source": [
        "spam = 4\n",
        "\n",
        "if spam == 1:\n",
        "  print('Hello')\n",
        "elif spam == 2:\n",
        "  print('Howdy')\n",
        "else:\n",
        "  print('Greetings')"
      ],
      "execution_count": null,
      "outputs": [
        {
          "output_type": "stream",
          "text": [
            "Greetings\n"
          ],
          "name": "stdout"
        }
      ]
    },
    {
      "cell_type": "markdown",
      "metadata": {
        "id": "e8vXA2jDCrS2"
      },
      "source": [
        "9.If your programme is stuck in an endless loop, what keys you’ll press?\n",
        "\n",
        "Ans:- Ctrl+C"
      ]
    },
    {
      "cell_type": "markdown",
      "metadata": {
        "id": "hk8QsHbeDdPR"
      },
      "source": [
        "10.How can you tell the difference between break and continue?\n",
        "\n",
        "Ans:-The break statement is used to terminate the loop or statement in which it is present. After that, the control will pass to the statements that are present after the break statement, if available. If the break statement is present in the nested loop, then it terminates only those loops which contains break statement.\n",
        "\n",
        "Continue is also a loop control statement just like the break statement. continue statement is opposite to that of break statement, instead of terminating the loop, it forces to execute the next iteration of the loop.\n",
        "As the name suggests the continue statement forces the loop to continue or execute the next iteration. When the continue statement is executed in the loop, the code inside the loop following the continue statement will be skipped and the next iteration of the loop will begin."
      ]
    },
    {
      "cell_type": "markdown",
      "metadata": {
        "id": "EEQTTA98IuOp"
      },
      "source": [
        "11. In a for loop, what is the difference between range(10), range(0, 10), and range(0, 10, 1)?\n",
        "\n",
        "Ans:-range(10) means it will run from zero to 9 ,\n",
        "\n",
        "range(0,10) it will show the starting  from 0 and end at 9 ,\n",
        "\n",
        "range(0,10,1) it will show the starting of loop , ending of loop and stepsize."
      ]
    },
    {
      "cell_type": "markdown",
      "metadata": {
        "id": "hSJ6CR8kRfDz"
      },
      "source": [
        "12. Write a short program that prints the numbers 1 to 10 using a for loop. Then write an equivalent program that prints the numbers 1 to 10 using a while loop."
      ]
    },
    {
      "cell_type": "code",
      "metadata": {
        "colab": {
          "base_uri": "https://localhost:8080/"
        },
        "id": "S0eLwTtnSLQ3",
        "outputId": "6f14fa6b-37ae-4859-df71-805e8909e36d"
      },
      "source": [
        "for n in range(1,11,1):\n",
        "  print(n)"
      ],
      "execution_count": null,
      "outputs": [
        {
          "output_type": "stream",
          "text": [
            "1\n",
            "2\n",
            "3\n",
            "4\n",
            "5\n",
            "6\n",
            "7\n",
            "8\n",
            "9\n",
            "10\n"
          ],
          "name": "stdout"
        }
      ]
    },
    {
      "cell_type": "code",
      "metadata": {
        "colab": {
          "base_uri": "https://localhost:8080/"
        },
        "id": "ALhi-dFVSd53",
        "outputId": "654a1340-691a-45cb-8aa2-938cb26c80fa"
      },
      "source": [
        "i = 1\n",
        "while i < 11 :\n",
        "  print(i)\n",
        "  i += 1"
      ],
      "execution_count": null,
      "outputs": [
        {
          "output_type": "stream",
          "text": [
            "1\n",
            "2\n",
            "3\n",
            "4\n",
            "5\n",
            "6\n",
            "7\n",
            "8\n",
            "9\n",
            "10\n"
          ],
          "name": "stdout"
        }
      ]
    },
    {
      "cell_type": "markdown",
      "metadata": {
        "id": "CcBlLNXtSv3v"
      },
      "source": [
        "13. If you had a function named bacon() inside a module named spam, how would you call it after importing spam?\n"
      ]
    },
    {
      "cell_type": "code",
      "metadata": {
        "id": "U4BgdMT1TUI-"
      },
      "source": [
        "spam.bacon();\n"
      ],
      "execution_count": null,
      "outputs": []
    }
  ]
}