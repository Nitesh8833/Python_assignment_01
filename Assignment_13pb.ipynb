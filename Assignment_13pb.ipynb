{
  "nbformat": 4,
  "nbformat_minor": 0,
  "metadata": {
    "colab": {
      "name": "Assignment_13pb.ipynb",
      "provenance": [],
      "collapsed_sections": []
    },
    "kernelspec": {
      "name": "python3",
      "display_name": "Python 3"
    },
    "language_info": {
      "name": "python"
    }
  },
  "cells": [
    {
      "cell_type": "markdown",
      "metadata": {
        "id": "SNq2XC6NCJEo"
      },
      "source": [
        "1. What advantages do Excel spreadsheets have over CSV spreadsheets?"
      ]
    },
    {
      "cell_type": "markdown",
      "metadata": {
        "id": "zT-lnm-dCKFU"
      },
      "source": [
        "Files saved in Excel format cannot be edited by text editors and also excel file can be password protected.\n",
        "\n",
        "Excel can perform VBA Coding,Functions,formulas and create summaries easily when compared to csv.\n",
        "\n"
      ]
    },
    {
      "cell_type": "markdown",
      "metadata": {
        "id": "WJ-QF6FvX33x"
      },
      "source": [
        "2.What do you pass to csv.reader() and csv.writer() to create reader and writer objects?"
      ]
    },
    {
      "cell_type": "markdown",
      "metadata": {
        "id": "q76EHm29YjcP"
      },
      "source": [
        "CSV file name or variable"
      ]
    },
    {
      "cell_type": "markdown",
      "metadata": {
        "id": "1ViTkjv_Ynf3"
      },
      "source": [
        "3. What modes do File objects for reader and writer objects need to be opened in?"
      ]
    },
    {
      "cell_type": "markdown",
      "metadata": {
        "id": "CnXRIRQdYxDh"
      },
      "source": [
        "W+\n",
        "\n"
      ]
    },
    {
      "cell_type": "markdown",
      "metadata": {
        "id": "JbCAZVodZsKe"
      },
      "source": [
        "4. What method takes a list argument and writes it to a CSV file?"
      ]
    },
    {
      "cell_type": "markdown",
      "metadata": {
        "id": "KMEnXq48Zwv_"
      },
      "source": [
        "We use writerows method to write multiple rows at once."
      ]
    },
    {
      "cell_type": "markdown",
      "metadata": {
        "id": "qKDjxOy4a8Ja"
      },
      "source": [
        "5. What do the keyword arguments delimiter and line terminator do?"
      ]
    },
    {
      "cell_type": "markdown",
      "metadata": {
        "id": "tnNDfdHhbEEV"
      },
      "source": [
        "The delimiter is the character that appears between cells on a row. By default, the delimiter for a CSV file is a comma. The line terminator is the character that comes at the end of a row. By default, the line terminator is a newline. You can change characters to different values by using the delimiter and lineterminator keyword arguments with csv.writer().\n",
        "\n",
        "Passing delimeter='\\t' and lineterminator='\\n\\n' ❶ changes the character between cells to a tab and the character between rows to two newlines. We then call writerow() three times to give us three rows."
      ]
    },
    {
      "cell_type": "markdown",
      "metadata": {
        "id": "qCa2nUi4e4CY"
      },
      "source": [
        "6. What function takes a string of JSON data and returns a Python data structure?"
      ]
    },
    {
      "cell_type": "markdown",
      "metadata": {
        "id": "R1YU0qCJe6mI"
      },
      "source": [
        "dumps()\n",
        "b = json.dumps(a)"
      ]
    },
    {
      "cell_type": "markdown",
      "metadata": {
        "id": "PxM5iw8Efqfn"
      },
      "source": [
        "7. What function takes a Python data structure and returns a string of JSON data?"
      ]
    },
    {
      "cell_type": "markdown",
      "metadata": {
        "id": "FaXrcFKKfubv"
      },
      "source": [
        "y = json.loads(var)\n",
        "\n",
        "loads()"
      ]
    }
  ]
}