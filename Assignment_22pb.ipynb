{
 "cells": [
  {
   "cell_type": "code",
   "execution_count": null,
   "metadata": {},
   "outputs": [],
   "source": [
    "1. What is the result of the code, and explain?\n",
    "\n",
    "\n",
    ">>> X = 'iNeuron'\n",
    ">>> def func():\n",
    "print(X)\n",
    "\n",
    "\n",
    ">>> func()\n"
   ]
  },
  {
   "cell_type": "code",
   "execution_count": null,
   "metadata": {},
   "outputs": [],
   "source": [
    "first we load 'iNeuron' in x variable which is global variable\n",
    "then we define a func() function and accessing 'X' variable in it\n",
    "Then we can call func() function we get ''iNeuron'' as output"
   ]
  },
  {
   "cell_type": "code",
   "execution_count": null,
   "metadata": {},
   "outputs": [],
   "source": [
    "2. What is the result of the code, and explain?\n",
    "\n",
    "\n",
    ">>> X = 'iNeuron'\n",
    ">>> def func():\n",
    "X = 'NI!'\n",
    "\n",
    ">>> func()\n",
    ">>> print(X)\n"
   ]
  },
  {
   "cell_type": "code",
   "execution_count": 3,
   "metadata": {},
   "outputs": [
    {
     "name": "stdout",
     "output_type": "stream",
     "text": [
      "iNeuron\n"
     ]
    }
   ],
   "source": [
    "X = 'iNeuron'\n",
    "def func():\n",
    "    X = 'NI!'\n",
    "func()\n",
    "print(X)"
   ]
  },
  {
   "cell_type": "code",
   "execution_count": null,
   "metadata": {},
   "outputs": [],
   "source": [
    "1)as in previous question,'iNeuron ' is stored in 'X' and 'X' is global variable\n",
    "2)\"X \" value is changed inside the function so the scope of \"X\" within the function only ,we can not acess it outside the function\n",
    "3)so when we call function ,Value  of \"X\" is \"NI!\"\n",
    "4)when we print the value of 'X' outside the function then it will not able to acess the value of 'x ' inside function.It will able to acess global variable 'X'"
   ]
  },
  {
   "cell_type": "code",
   "execution_count": null,
   "metadata": {},
   "outputs": [],
   "source": [
    "3. What does this code print, and why?\n",
    "\n",
    "\n",
    ">>> X = 'iNeuron'\n",
    ">>> def func():\n",
    "X = 'NI'\n",
    "print(X)\n",
    "\n",
    "\n",
    ">>> func()\n",
    ">>> print(X)\n"
   ]
  },
  {
   "cell_type": "code",
   "execution_count": 4,
   "metadata": {},
   "outputs": [
    {
     "name": "stdout",
     "output_type": "stream",
     "text": [
      "NI!\n",
      "iNeuron\n"
     ]
    }
   ],
   "source": [
    "X = 'iNeuron'\n",
    "def func():\n",
    "    X = 'NI!'\n",
    "    print(X)\n",
    "func()\n",
    "print(X)"
   ]
  },
  {
   "cell_type": "code",
   "execution_count": null,
   "metadata": {},
   "outputs": [],
   "source": [
    "The Solution is already discussed in previous question\n",
    "1)Variable inside a function have scope inside the function ,we can not acess outside the function ,it is also called function scope\n",
    "2)Variable  Outside the function have global scope ,we can access it inside or outside the function as per requirement"
   ]
  },
  {
   "cell_type": "code",
   "execution_count": null,
   "metadata": {},
   "outputs": [],
   "source": [
    "4. What output does this code produce? Why?\n",
    "\n",
    "\n",
    ">>> X = 'iNeuron'\n",
    ">>> def func():\n",
    "global X\n",
    "X = 'NI'\n",
    "\n",
    "\n",
    ">>> func()\n",
    ">>> print(X)\n"
   ]
  },
  {
   "cell_type": "code",
   "execution_count": 5,
   "metadata": {},
   "outputs": [
    {
     "name": "stdout",
     "output_type": "stream",
     "text": [
      "NI!\n",
      "NI!\n"
     ]
    }
   ],
   "source": [
    "X = 'iNeuron'\n",
    "def func():\n",
    "    global X\n",
    "    X = 'NI!'\n",
    "    print(X)\n",
    "func()\n",
    "print(X)"
   ]
  },
  {
   "cell_type": "code",
   "execution_count": null,
   "metadata": {},
   "outputs": [],
   "source": [
    "After using global keyword inside function on variable 'X' It will change local variable x to global variable so whenever \n",
    "we want to Access Value of 'X' we get the global variable only it will override default global variable\n"
   ]
  },
  {
   "cell_type": "code",
   "execution_count": null,
   "metadata": {},
   "outputs": [],
   "source": [
    "5. What about this code—what’s the output, and why?\n",
    "\n",
    "\n",
    ">>> X = 'iNeuron'\n",
    ">>> def func():\n",
    "X = 'NI'\n",
    "def nested():\n",
    "print(X)\n",
    "nested()\n",
    "\n",
    "\n",
    ">>> func()\n",
    ">>> X\n"
   ]
  },
  {
   "cell_type": "code",
   "execution_count": 10,
   "metadata": {},
   "outputs": [
    {
     "name": "stdout",
     "output_type": "stream",
     "text": [
      "NI!\n"
     ]
    },
    {
     "data": {
      "text/plain": [
       "'iNeuron'"
      ]
     },
     "execution_count": 10,
     "metadata": {},
     "output_type": "execute_result"
    }
   ],
   "source": [
    "X = 'iNeuron'\n",
    "def func():\n",
    "    \n",
    "    X = 'NI!'\n",
    "    def nested():\n",
    "        print(X)\n",
    "    nested()\n",
    "func()\n",
    "X"
   ]
  },
  {
   "cell_type": "code",
   "execution_count": null,
   "metadata": {},
   "outputs": [],
   "source": [
    "1)when function func() called NI! because \"X\" = 'NI!' whic is local variable after that nested method are define\n",
    "in which variable X is called  where X ='NI' which is local variable for Nested()\n",
    "so when we print(X) it will access local variable \n",
    "2)\n",
    "after function x Variable is called which is only access global variable\n",
    "\n"
   ]
  },
  {
   "cell_type": "code",
   "execution_count": null,
   "metadata": {},
   "outputs": [],
   "source": [
    "\n",
    "6. How about this code: what is its output in Python 3, and explain?\n",
    "\n",
    "\n",
    ">>> def func():\n",
    "X = 'NI'\n",
    "def nested():\n",
    "nonlocal X\n",
    "X = 'Spam'\n",
    "nested()\n",
    "print(X)\n",
    "\n",
    "\n",
    ">>> func()"
   ]
  },
  {
   "cell_type": "code",
   "execution_count": 15,
   "metadata": {},
   "outputs": [
    {
     "name": "stdout",
     "output_type": "stream",
     "text": [
      "Spam\n"
     ]
    }
   ],
   "source": [
    "def func():\n",
    "    \n",
    "    X = 'NI!'\n",
    "    def nested():\n",
    "        nonlocal X\n",
    "        X = 'Spam'\n",
    "    nested()\n",
    "    print(X)\n",
    "func()"
   ]
  },
  {
   "cell_type": "code",
   "execution_count": null,
   "metadata": {},
   "outputs": [],
   "source": [
    "here we use nonlocal keywords for nested function to make that variable nonlocal\n",
    "so that we get output as 'spam'"
   ]
  }
 ],
 "metadata": {
  "kernelspec": {
   "display_name": "Python 3",
   "language": "python",
   "name": "python3"
  },
  "language_info": {
   "codemirror_mode": {
    "name": "ipython",
    "version": 3
   },
   "file_extension": ".py",
   "mimetype": "text/x-python",
   "name": "python",
   "nbconvert_exporter": "python",
   "pygments_lexer": "ipython3",
   "version": "3.9.5"
  }
 },
 "nbformat": 4,
 "nbformat_minor": 4
}
