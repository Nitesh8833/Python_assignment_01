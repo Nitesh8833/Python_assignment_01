{
  "nbformat": 4,
  "nbformat_minor": 0,
  "metadata": {
    "colab": {
      "name": "Assignment_17pb.ipynb",
      "provenance": [],
      "collapsed_sections": []
    },
    "kernelspec": {
      "name": "python3",
      "display_name": "Python 3"
    },
    "language_info": {
      "name": "python"
    }
  },
  "cells": [
    {
      "cell_type": "markdown",
      "metadata": {
        "id": "j2glyX8GzwBo"
      },
      "source": [
        "1. Assign the value 7 to the variable guess_me. Then, write the conditional tests (if, else, and elif) to print the string 'too low' if guess_me is less than 7, 'too high' if greater than 7, and 'just right' if equal to 7."
      ]
    },
    {
      "cell_type": "code",
      "metadata": {
        "colab": {
          "base_uri": "https://localhost:8080/"
        },
        "id": "6XrwAcp22zvp",
        "outputId": "53facf23-5d47-4642-8f45-e48e2313efe3"
      },
      "source": [
        "guess_me = 7;\n",
        "if guess_me < 7:\n",
        "  print('too slow')\n",
        "elif guess_me > 7:\n",
        "  print('too high')\n",
        "else:\n",
        "  print('just right')"
      ],
      "execution_count": null,
      "outputs": [
        {
          "output_type": "stream",
          "text": [
            "just right\n"
          ],
          "name": "stdout"
        }
      ]
    },
    {
      "cell_type": "markdown",
      "metadata": {
        "id": "UW2qvmeEFQU9"
      },
      "source": [
        "2. Assign the value 7 to the variable guess_me and the value 1 to the variable start. Write a while loop that compares start with guess_me. Print too low if start is less than guess me. If start equals guess_me, print 'found it!' and exit the loop. If start is greater than guess_me, print 'oops' and exit the loop. Increment start at the end of the loop."
      ]
    },
    {
      "cell_type": "code",
      "metadata": {
        "colab": {
          "base_uri": "https://localhost:8080/"
        },
        "id": "hNhgXrByFRJY",
        "outputId": "52e39f68-ffbe-4083-e4da-18874f9ee60b"
      },
      "source": [
        "guess_me = 7;\n",
        "start = 1;\n",
        "while True:\n",
        "  if start < guess_me:\n",
        "    print('too low')\n",
        "  elif start == guess_me:\n",
        "    print(\"found it\")\n",
        "    break\n",
        "  else:\n",
        "    print('oops')\n",
        "  start += 1"
      ],
      "execution_count": null,
      "outputs": [
        {
          "output_type": "stream",
          "text": [
            "too low\n",
            "too low\n",
            "too low\n",
            "too low\n",
            "too low\n",
            "too low\n",
            "found it\n"
          ],
          "name": "stdout"
        }
      ]
    },
    {
      "cell_type": "markdown",
      "metadata": {
        "id": "d_UkT2IwcUjd"
      },
      "source": [
        "3. Print the following values of the list [3, 2, 1, 0] using a for loop."
      ]
    },
    {
      "cell_type": "code",
      "metadata": {
        "colab": {
          "base_uri": "https://localhost:8080/"
        },
        "id": "6IrVrKPqcYGZ",
        "outputId": "06939edc-060c-4f1d-a4c6-5491c2eea38d"
      },
      "source": [
        "list1 = [3,2,1,0]\n",
        "for i in list1:\n",
        "  print(i)"
      ],
      "execution_count": null,
      "outputs": [
        {
          "output_type": "stream",
          "text": [
            "3\n",
            "2\n",
            "1\n",
            "0\n"
          ],
          "name": "stdout"
        }
      ]
    },
    {
      "cell_type": "markdown",
      "metadata": {
        "id": "TxEI52fecyq_"
      },
      "source": [
        "4. Use a list comprehension to make a list of the even numbers in range(10)"
      ]
    },
    {
      "cell_type": "code",
      "metadata": {
        "colab": {
          "base_uri": "https://localhost:8080/"
        },
        "id": "0B6PrApvc09m",
        "outputId": "90a76160-4287-495e-c892-2dffa1125470"
      },
      "source": [
        "ev_num = [n for n in range(10) if n % 2 == 0]\n",
        "print(ev_num)"
      ],
      "execution_count": null,
      "outputs": [
        {
          "output_type": "stream",
          "text": [
            "[0, 2, 4, 6, 8]\n"
          ],
          "name": "stdout"
        }
      ]
    },
    {
      "cell_type": "markdown",
      "metadata": {
        "id": "jrHBPnhVdOSq"
      },
      "source": [
        "5. Use a dictionary comprehension to create the dictionary squares. Use range(10) to return the keys, and use the square of each key as its value."
      ]
    },
    {
      "cell_type": "code",
      "metadata": {
        "colab": {
          "base_uri": "https://localhost:8080/"
        },
        "id": "vfi-jxzLdQ_O",
        "outputId": "b3173e1c-9d88-460a-b9f1-e497db2cc605"
      },
      "source": [
        "\n",
        "square_dict = {num: num*num for num in range(10)}\n",
        "print(square_dict)\n"
      ],
      "execution_count": null,
      "outputs": [
        {
          "output_type": "stream",
          "text": [
            "{0: 0, 1: 1, 2: 4, 3: 9, 4: 16, 5: 25, 6: 36, 7: 49, 8: 64, 9: 81}\n"
          ],
          "name": "stdout"
        }
      ]
    },
    {
      "cell_type": "markdown",
      "metadata": {
        "id": "eiZCWluHeVdI"
      },
      "source": [
        "6. Construct the set odd from the odd numbers in the range using a set comprehension (10)."
      ]
    },
    {
      "cell_type": "code",
      "metadata": {
        "id": "m9bN7B2neYln",
        "colab": {
          "base_uri": "https://localhost:8080/"
        },
        "outputId": "844ef7b4-bbc4-4b04-b092-7d749518f660"
      },
      "source": [
        "limit = 10\n",
        "odd = {num for num in range(limit) if num % 2 == 1}\n",
        "print(odd)"
      ],
      "execution_count": null,
      "outputs": [
        {
          "output_type": "stream",
          "text": [
            "{1, 3, 5, 7, 9}\n"
          ],
          "name": "stdout"
        }
      ]
    },
    {
      "cell_type": "markdown",
      "metadata": {
        "id": "qkxIGSern8sw"
      },
      "source": [
        "7. Use a generator comprehension to return the string 'Got ' and a number for the numbers in range(10). Iterate through this by using a for loop."
      ]
    },
    {
      "cell_type": "code",
      "metadata": {
        "colab": {
          "base_uri": "https://localhost:8080/"
        },
        "id": "MLtRuoD_oL2T",
        "outputId": "93c57d5a-8bb3-4c7f-aafd-ef44473e8349"
      },
      "source": [
        "limit = 10\n",
        "gen_str = ('Got ' + str(num) for num in range(limit))\n",
        "for i in gen_str:\n",
        "    print(i)"
      ],
      "execution_count": null,
      "outputs": [
        {
          "output_type": "stream",
          "text": [
            "Got 0\n",
            "Got 1\n",
            "Got 2\n",
            "Got 3\n",
            "Got 4\n",
            "Got 5\n",
            "Got 6\n",
            "Got 7\n",
            "Got 8\n",
            "Got 9\n"
          ],
          "name": "stdout"
        }
      ]
    },
    {
      "cell_type": "markdown",
      "metadata": {
        "id": "m1fjgs8lovjH"
      },
      "source": [
        "8. Define a function called good that returns the list ['Harry', 'Ron', 'Hermione']."
      ]
    },
    {
      "cell_type": "code",
      "metadata": {
        "colab": {
          "base_uri": "https://localhost:8080/"
        },
        "id": "3nPVwX0Noz0W",
        "outputId": "8272baf8-7606-4219-dae2-1631baf766ea"
      },
      "source": [
        "def good():\n",
        "  li = ['Harry', 'Ron', 'Hermione']\n",
        "  return li\n",
        "\n",
        "print(good())\n"
      ],
      "execution_count": null,
      "outputs": [
        {
          "output_type": "stream",
          "text": [
            "['Harry', 'Ron', 'Hermione']\n"
          ],
          "name": "stdout"
        }
      ]
    },
    {
      "cell_type": "markdown",
      "metadata": {
        "id": "kOC70HlapWlT"
      },
      "source": [
        "9. Define a generator function called get_odds that returns the odd numbers from range(10). Use a for loop to find and print the third value returned."
      ]
    },
    {
      "cell_type": "code",
      "metadata": {
        "colab": {
          "base_uri": "https://localhost:8080/"
        },
        "id": "kgy9uxOtpbnU",
        "outputId": "e2058979-d13e-4230-9a95-ff9edc66bed6"
      },
      "source": [
        "limit = 10\n",
        "get_odds = (num for num in range(limit) if not num % 2 == 0)\n",
        "count = 0\n",
        "for num in get_odds:\n",
        "    if count == 2:\n",
        "        print(num)\n",
        "        break\n",
        "    count += 1"
      ],
      "execution_count": null,
      "outputs": [
        {
          "output_type": "stream",
          "text": [
            "5\n"
          ],
          "name": "stdout"
        }
      ]
    },
    {
      "cell_type": "markdown",
      "metadata": {
        "id": "i4wAisDUp6Oa"
      },
      "source": [
        "10. Define an exception called OopsException. Raise this exception to see what happens. Then write the code to catch this exception and print 'Caught an oops'."
      ]
    },
    {
      "cell_type": "code",
      "metadata": {
        "id": "3fEJOllzp-FJ"
      },
      "source": [
        "class OopsException(Exception):\n",
        "    pass\n",
        "\n",
        "\n",
        "def with_exception(a):\n",
        "    if a < 0:\n",
        "        raise OopsException(a)\n",
        "\n",
        "\n",
        "try:\n",
        "    with_exception(-1)\n",
        "except OopsException as err:\n",
        "    print('Caught an oops')"
      ],
      "execution_count": null,
      "outputs": []
    },
    {
      "cell_type": "markdown",
      "metadata": {
        "id": "4F2QPzcEqLbp"
      },
      "source": [
        "11. Use zip() to make a dictionary called movies that pairs these lists: titles = ['Creature of Habit', 'Crewel Fate'] and plots = ['A nun turns into a monster', 'A haunted yarn shop']."
      ]
    },
    {
      "cell_type": "code",
      "metadata": {
        "colab": {
          "base_uri": "https://localhost:8080/"
        },
        "id": "tcsJQreAqPVy",
        "outputId": "0ed478ff-6caf-4ac0-b2a4-82075bcd8dc4"
      },
      "source": [
        "titles = ['Creature of Habit', 'Crewel Fate']\n",
        "plots = ['A nun turns into a monster', 'A haunted yarn shop']\n",
        "\n",
        "movies = {}\n",
        "for title, plot in zip(titles, plots):\n",
        "    movies[title] = plot\n",
        "# or movies = dict(zip(titles, plots))\n",
        "print(movies)"
      ],
      "execution_count": null,
      "outputs": [
        {
          "output_type": "stream",
          "text": [
            "{'Creature of Habit': 'A nun turns into a monster', 'Crewel Fate': 'A haunted yarn shop'}\n"
          ],
          "name": "stdout"
        }
      ]
    }
  ]
}