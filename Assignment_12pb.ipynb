{
  "nbformat": 4,
  "nbformat_minor": 0,
  "metadata": {
    "colab": {
      "name": "Assignment_12pb.ipynb",
      "provenance": [],
      "collapsed_sections": []
    },
    "kernelspec": {
      "name": "python3",
      "display_name": "Python 3"
    },
    "language_info": {
      "name": "python"
    }
  },
  "cells": [
    {
      "cell_type": "markdown",
      "metadata": {
        "id": "SSnYHnirUuuR"
      },
      "source": [
        "1. In what modes should the PdfFileReader() and PdfFileWriter() File objects will be opened?"
      ]
    },
    {
      "cell_type": "markdown",
      "metadata": {
        "id": "O3stWtIczIpX"
      },
      "source": [
        " binary mode"
      ]
    },
    {
      "cell_type": "markdown",
      "metadata": {
        "id": "r6rj_ecA0M79"
      },
      "source": [
        "2. From a PdfFileReader object, how do you get a Page object for page 5?"
      ]
    },
    {
      "cell_type": "markdown",
      "metadata": {
        "id": "YVFMIGeT0Slg"
      },
      "source": [
        "pageObj = pdfReader.getPage(4)"
      ]
    },
    {
      "cell_type": "markdown",
      "metadata": {
        "id": "beR0-1Pt1BoH"
      },
      "source": [
        "3. What PdfFileReader variable stores the number of pages in the PDF document?"
      ]
    },
    {
      "cell_type": "markdown",
      "metadata": {
        "id": "_HKWK8P81HAf"
      },
      "source": [
        "yes"
      ]
    },
    {
      "cell_type": "markdown",
      "metadata": {
        "id": "sQ7xACA_zZaH"
      },
      "source": [
        "4. If a PdfFileReader object’s PDF is encrypted with the password swordfish, what must you do before you can obtain Page objects from it?"
      ]
    },
    {
      "cell_type": "markdown",
      "metadata": {
        "id": "kMpVjMG1ze3S"
      },
      "source": [
        "We will open the encrypted file with the correct password and create a copy of it by iterating through every page of it and adding it to our new PDF file."
      ]
    },
    {
      "cell_type": "markdown",
      "metadata": {
        "id": "QYHDsACf1qRp"
      },
      "source": [
        "5. What methods do you use to rotate a page?"
      ]
    },
    {
      "cell_type": "markdown",
      "metadata": {
        "id": "waPdIuZL2V2y"
      },
      "source": [
        "rotateClockwise() "
      ]
    },
    {
      "cell_type": "markdown",
      "metadata": {
        "id": "AxdoksQ32vov"
      },
      "source": [
        "6. What is the difference between a Run object and a Paragraph object?"
      ]
    },
    {
      "cell_type": "markdown",
      "metadata": {
        "id": "BFsfz9zR2yU2"
      },
      "source": [
        "To add a paragraph in a word document we make use the inbuilt method add_paragraph() to add a paragraph in the word document. By using this method we can even add paragraphs which have characters like ‘\\n’, ‘\\t’ and ‘\\r’. Apart from that, we can also add various styles to it.\n",
        "\n",
        "\n",
        "Syntax: doc.add_paragraph(String s, style=None)\n",
        "\n",
        "\n",
        "\n",
        "Parameters:\n",
        "\n",
        "String s: It is the string data that is to be added as a paragraph. This string can contain newline character ‘\\n’, tabs ‘\\t’ or a carriage return character ‘\\r’.\n",
        "style: It is used to set style.\n"
      ]
    },
    {
      "cell_type": "markdown",
      "metadata": {
        "id": "5LxnUmq94zes"
      },
      "source": [
        "Word documents contain formatted text wrapped within three object levels. The Lowest level- run objects\n",
        "\n"
      ]
    },
    {
      "cell_type": "markdown",
      "metadata": {
        "id": "y6tSMA_G6nlI"
      },
      "source": [
        "7. How do you obtain a list of Paragraph objects for a Document object that’s stored in a variable named doc?"
      ]
    },
    {
      "cell_type": "markdown",
      "metadata": {
        "id": "BtDX1UMy6v1l"
      },
      "source": [
        "8. What type of object has bold, underline, italic, strike, and outline variables?"
      ]
    },
    {
      "cell_type": "markdown",
      "metadata": {
        "id": "c5m-RInE-xro"
      },
      "source": [
        "A Run object has these variables (not a paragraph)"
      ]
    },
    {
      "cell_type": "markdown",
      "metadata": {
        "id": "rSv8sv1x_SEr"
      },
      "source": [
        "9. What is the difference between False, True, and None for the bold variable?"
      ]
    },
    {
      "cell_type": "markdown",
      "metadata": {
        "id": "03cFKpjZ_XmH"
      },
      "source": [
        "True always makes the Run object bolded and False makes it always not bolded, no matter what the style's bold setting is. None will make the Run object just use the style's bold setting."
      ]
    },
    {
      "cell_type": "markdown",
      "metadata": {
        "id": "LbfD_4ZPALGc"
      },
      "source": [
        ""
      ]
    },
    {
      "cell_type": "markdown",
      "metadata": {
        "id": "EMrSFUze_xyo"
      },
      "source": [
        "10. How do you create a Document object for a new Word document?"
      ]
    },
    {
      "cell_type": "markdown",
      "metadata": {
        "id": "5YFrqsQw_1is"
      },
      "source": [
        "Call the docx.Document() function."
      ]
    },
    {
      "cell_type": "markdown",
      "metadata": {
        "id": "sfOZbEDhAUGI"
      },
      "source": [
        "11. How do you add a paragraph with the text 'Hello, there!' to a Document object stored in a variable named doc?"
      ]
    },
    {
      "cell_type": "markdown",
      "metadata": {
        "id": "2hMY_oGPAftO"
      },
      "source": [
        "doc.add_paragraph('Hello there!')"
      ]
    },
    {
      "cell_type": "markdown",
      "metadata": {
        "id": "dD7SIVQoAqEb"
      },
      "source": [
        "12. What integers represent the levels of headings available in Word documents?"
      ]
    },
    {
      "cell_type": "markdown",
      "metadata": {
        "id": "rKPZLQgtAqv5"
      },
      "source": [
        "The integers 0,1,2,3, and 4"
      ]
    }
  ]
}