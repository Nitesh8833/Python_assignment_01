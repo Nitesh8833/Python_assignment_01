{
  "nbformat": 4,
  "nbformat_minor": 0,
  "metadata": {
    "colab": {
      "name": "Assignment_10pb.ipynb",
      "provenance": [],
      "collapsed_sections": []
    },
    "kernelspec": {
      "name": "python3",
      "display_name": "Python 3"
    },
    "language_info": {
      "name": "python"
    }
  },
  "cells": [
    {
      "cell_type": "markdown",
      "metadata": {
        "id": "vXOF_kIHm1QU"
      },
      "source": [
        "1. How do you distinguish between shutil.copy() and shutil.copytree()?"
      ]
    },
    {
      "cell_type": "markdown",
      "metadata": {
        "id": "VjfIfdXNnEPY"
      },
      "source": [
        "While shutil.copy() will copy a single file, shutil.copytree() will copy an entire folder and every folder and file contained in it. Calling shutil.copytree(source, destination) will copy the folder at the path source, along with all of its files and subfolders, to the folder at the path destination. The source and destination parameters are both strings. The function returns a string of the path of the copied folder"
      ]
    },
    {
      "cell_type": "markdown",
      "metadata": {
        "id": "sj69UB58DHrw"
      },
      "source": [
        "2. What function is used to rename files??"
      ]
    },
    {
      "cell_type": "markdown",
      "metadata": {
        "id": "YOVkNZHNDK4C"
      },
      "source": [
        "os.rename() method in Python is used to rename a file or directory.\n",
        "This method renames a source file/ directory to specified destination file/directory."
      ]
    },
    {
      "cell_type": "markdown",
      "metadata": {
        "id": "rArk1gJfDZOc"
      },
      "source": [
        "3. What is the difference between the delete functions in the send2trash and shutil modules?"
      ]
    },
    {
      "cell_type": "markdown",
      "metadata": {
        "id": "g-j2RNVEDe-M"
      },
      "source": [
        "OS : The OS module in Python provides functions for interacting with the operating system. OS module comes with Python’s Standard Library.\n",
        "send2trash : Send2Trash is a small package that sends files to the Trash (or Recycle Bin) natively and on all platforms. \n",
        "\n",
        "You can delete a single file or a single empty folder with functions in the os module, whereas to delete a folder and all of its contents, you use the shutil module."
      ]
    },
    {
      "cell_type": "markdown",
      "metadata": {
        "id": "03in4i8NEdAh"
      },
      "source": [
        "4.ZipFile objects have a close() method just like File objects’ close() method. What ZipFile method is equivalent to File objects’ open() method?"
      ]
    },
    {
      "cell_type": "markdown",
      "metadata": {
        "id": "Qpffb7ouEguS"
      },
      "source": [
        "ZipFile.open(name, mode='r', pwd=None, *, force_zip64=False)\n",
        "Access a member of the archive as a binary file-like object. name can be either the name of a file within the archive or a ZipInfo object. The mode parameter, if included, must be 'r' (the default) or 'w'. pwd is the password used to decrypt encrypted ZIP files.\n",
        "\n",
        "open() is also a context manager and therefore supports the with statement:\n",
        "\n",
        "with ZipFile('spam.zip') as myzip:\n",
        "    with myzip.open('eggs.txt') as myfile:\n",
        "        print(myfile.read())"
      ]
    }
  ]
}