{
  "nbformat": 4,
  "nbformat_minor": 0,
  "metadata": {
    "colab": {
      "name": "Assignment_9pb.ipynb",
      "provenance": [],
      "collapsed_sections": []
    },
    "kernelspec": {
      "name": "python3",
      "display_name": "Python 3"
    },
    "language_info": {
      "name": "python"
    }
  },
  "cells": [
    {
      "cell_type": "markdown",
      "metadata": {
        "id": "-HsWJzqbCFxu"
      },
      "source": [
        "1. To what does a relative path refer?\n"
      ]
    },
    {
      "cell_type": "markdown",
      "metadata": {
        "id": "qasEV_3YDBhN"
      },
      "source": [
        "Ans:-The path with reference to root directory is called absolute. The path with reference to current directory is called relative.\n",
        "\n",
        "I believe relative path cuz it is not dependent on any location\n",
        "\n",
        "A relative path assumes that the file is on the current server. Using relative paths allows you to construct your site offline and fully test it before uploading it.\n"
      ]
    },
    {
      "cell_type": "markdown",
      "metadata": {
        "id": "IemDS2m9D8We"
      },
      "source": [
        "2. What does an absolute path start with your operating system?\n",
        "\n",
        "Ans:-C:\\Users\\लााीोर>"
      ]
    },
    {
      "cell_type": "markdown",
      "metadata": {
        "id": "JUifDbfKEqxU"
      },
      "source": [
        "3. What do the functions os.getcwd() and os.chdir() do?\n",
        "\n",
        "Ans:- Check your current working directory using os.getcwd()\n",
        " and You could set the working directory using os.chdir() to your home directory."
      ]
    },
    {
      "cell_type": "markdown",
      "metadata": {
        "id": "xSnG9N3zcAlO"
      },
      "source": [
        "4. What are the . and .. folders?\n",
        "\n",
        "Ans:- using dot(.) we go back in directory and (..) we can go to root directory"
      ]
    },
    {
      "cell_type": "markdown",
      "metadata": {
        "id": "92cGxQ-2dNdS"
      },
      "source": [
        "5. In C:\\bacon\\eggs\\spam.txt, which part is the dir name, and which part is the base name?\n"
      ]
    },
    {
      "cell_type": "markdown",
      "metadata": {
        "id": "Vqs7jboUdTNW"
      },
      "source": [
        "Ans:- dir name:- C:\\bacon\\eggs\\\n",
        "and \n",
        "base name:- spam.txt"
      ]
    },
    {
      "cell_type": "markdown",
      "metadata": {
        "id": "nrmcZA87hECU"
      },
      "source": [
        "6. What are the three “mode” arguments that can be passed to the open() function?\n",
        "\n",
        "Ans:-There are three kinds of mode, that Python provides and how files can be opened:\n",
        "\n",
        "“ r “, for reading.\n",
        "\n",
        "“ w “, for writing.\n",
        "\n",
        "“ a “, for appending.\n",
        "\n",
        "“ r+ “, for both reading and writing\n"
      ]
    },
    {
      "cell_type": "markdown",
      "metadata": {
        "id": "kBgMGJA7h7qN"
      },
      "source": [
        "7. What happens if an existing file is opened in write mode?\n",
        "\n",
        "ANs:-If a file with the same name already exists, its contents are discarded and the file is treated as a new empty file"
      ]
    },
    {
      "cell_type": "markdown",
      "metadata": {
        "id": "jsllsfTNjgNL"
      },
      "source": [
        "8. How do you tell the difference between read() and readlines()?"
      ]
    },
    {
      "cell_type": "markdown",
      "metadata": {
        "id": "pM-M4bv0jkgF"
      },
      "source": [
        "Reads the size bytes from the current position of the file. If there is no parameter, the entire file is read by default.\n",
        "\n",
        "readlines():Read the entire file and save it in a list with each line in the file as an element in the list (Including ‘\\n’, ‘\\t’"
      ]
    },
    {
      "cell_type": "markdown",
      "metadata": {
        "id": "Bah75AiTklIM"
      },
      "source": [
        "9. What data structure does a shelf value resemble?"
      ]
    },
    {
      "cell_type": "markdown",
      "metadata": {
        "id": "pArEDikbkpMa"
      },
      "source": [
        "A shelf value resembles a dictionary value; it has keys and values, along with keys() and values() methods that work similarly to the dictionary methods of the same names."
      ]
    }
  ]
}