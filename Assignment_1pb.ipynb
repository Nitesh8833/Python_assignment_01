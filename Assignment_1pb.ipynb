{
  "nbformat": 4,
  "nbformat_minor": 0,
  "metadata": {
    "colab": {
      "name": "Assignment_1pb.ipynb",
      "provenance": [],
      "collapsed_sections": []
    },
    "kernelspec": {
      "name": "python3",
      "display_name": "Python 3"
    }
  },
  "cells": [
    {
      "cell_type": "markdown",
      "metadata": {
        "id": "U654AAsV5W1q"
      },
      "source": [
        "1. In the below elements which of them are values or an expression? eg:- values can be integer or string and expressions will be mathematical operators.\n",
        "*  -expression\n",
        "'hello' -string\n",
        "-value 87.8 -integer\n",
        "- -expression\n",
        "/ -division\n",
        "+\t-addition\n",
        "6 -integer\n"
      ]
    },
    {
      "cell_type": "markdown",
      "metadata": {
        "id": "OnYf-Fr_59bw"
      },
      "source": [
        "\n",
        "value = 'hello' -string\n",
        "value = 87.8 -integer\n",
        "-expression =  / -division\n",
        "expression = -addition 6 -integer\n",
        "\n"
      ]
    },
    {
      "cell_type": "markdown",
      "metadata": {
        "id": "Ql3XElR-6ZbQ"
      },
      "source": [
        "2. What is the difference between string and variable?\n",
        "\n"
      ]
    },
    {
      "cell_type": "code",
      "metadata": {
        "id": "3wGrhuc0E_Nb"
      },
      "source": [
        "spam = \"Spam\""
      ],
      "execution_count": null,
      "outputs": []
    },
    {
      "cell_type": "markdown",
      "metadata": {
        "id": "9NMqlD7FFCVI"
      },
      "source": [
        "Ans:-\n",
        "\n",
        "spam  - It is a variable that means it can store values in the memory and it can assign values \n",
        "'spam'   - Its a dataype in python\n"
      ]
    },
    {
      "cell_type": "markdown",
      "metadata": {
        "id": "-uBgo-Ct7-gw"
      },
      "source": [
        "A string is a value representing text.\n",
        "A variable is a name that can refer to any value"
      ]
    },
    {
      "cell_type": "markdown",
      "metadata": {
        "id": "1N_v3NhL8RIr"
      },
      "source": [
        "3. Describe three different data types.\n",
        "\n",
        "Ans:\n",
        "int  - This datatype identifies the integers and is used against integers in number systems.ex(1,2,4,-3)\n",
        "string: This datatypes identifies characters or letters . They are written in double quotes\n",
        "ex:”suvasis”\n",
        "float: This data type stores floating point datatypes which are decimal numbers ex(1.2,1.3,4.5)\n"
      ]
    },
    {
      "cell_type": "markdown",
      "metadata": {
        "id": "gZXhEY0O81v2"
      },
      "source": [
        "4. What is an expression made up of? What do all expressions do?\n",
        "\n",
        "Expressions are usually mathematical operations . Its usually a mixture of operators and operands .\n",
        "Ex:a+b-5\n"
      ]
    },
    {
      "cell_type": "markdown",
      "metadata": {
        "id": "y60cOFRr9TGS"
      },
      "source": [
        "5. This assignment statements, like spam = 10. What is the difference between an expression and a statement?\n",
        "\n",
        "Ans:Expressions a logical sequence of operators and operands while statements are standalone statements which is performed in a single go .\n"
      ]
    },
    {
      "cell_type": "markdown",
      "metadata": {
        "id": "t-ddg5Dy9Zof"
      },
      "source": [
        "6. After running the following code, what does the variable bacon contain?\n",
        "\n",
        "\n",
        "bacon = 22\n",
        "bacon + 1\n",
        "\n",
        "\n",
        "Ans:The Output is 23\n"
      ]
    },
    {
      "cell_type": "markdown",
      "metadata": {
        "id": "5yzuF9p29j_-"
      },
      "source": [
        "7. What should the values of the following two terms be?\n",
        "'spam' + 'spamspam'\n",
        "'spam' * 3\n",
        "\n",
        "\n",
        "Ans: 'spam' + 'spamspam' ='spamspamspam'\n",
        "         ‘spam’ *3 ='spamspamspam'\n"
      ]
    },
    {
      "cell_type": "markdown",
      "metadata": {
        "id": "2f6qIOmB9vH9"
      },
      "source": [
        "8. Why is eggs a valid variable name while 100 is invalid?\n",
        "\n",
        "\n",
        "Ans:eggs is a valid variable name as it doesn’t correspond to any primitive datatype. \n",
        "however 100 is invalid as in python a variable name cannot be a numeric integer\n"
      ]
    },
    {
      "cell_type": "markdown",
      "metadata": {
        "id": "jlniNqaBAJXc"
      },
      "source": [
        "9. What three functions can be used to get the integer, floating-point number, or string version of a value?\n",
        "\n",
        "\n",
        "Ans: int() function can be used to get the integer value\n",
        "         float() function can be used to get the floating point value\n",
        "       string() function can be used to get the string value\n"
      ]
    },
    {
      "cell_type": "markdown",
      "metadata": {
        "id": "szAtCV0KAO1c"
      },
      "source": [
        "10. Why does this expression cause an error? How can you fix it?\n",
        "'I have eaten ' + 99 + ' burritos.'\n",
        "\n",
        "\n",
        "\n",
        "Ans: This expression causes the error as the str object cannot be concatenated with the int object .\n",
        "\n",
        "This can be corrected if we use the below  mentioned command .\n",
        "\n",
        "'I have eaten ' + '99' + ' burritos.'\n",
        "\n"
      ]
    }
  ]
}